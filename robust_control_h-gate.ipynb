{
 "cells": [
  {
   "cell_type": "markdown",
   "metadata": {},
   "source": [
    "# Robust control H-Gate"
   ]
  },
  {
   "cell_type": "code",
   "execution_count": 31,
   "metadata": {},
   "outputs": [],
   "source": [
    "import matplotlib.pyplot as plt\n",
    "import numpy as np\n",
    "import qctrlvisualizer as qv\n",
    "from attr import asdict\n",
    "\n",
    "from qctrl import Qctrl\n",
    "\n",
    "# Starting a session with the API\n",
    "qctrl = Qctrl(email = 'hassaanghazali@gmail.com', password = 'dabadee')\n"
   ]
  },
  {
   "cell_type": "code",
   "execution_count": 63,
   "metadata": {},
   "outputs": [],
   "source": [
    "# Define standard matrices\n",
    "identity = np.array([[1.0, 0.0], [0.0, 1.0]], dtype=np.complex)\n",
    "sigma_x = np.array([[0.0, 1.0], [1.0, 0.0]], dtype=np.complex)\n",
    "sigma_y = np.array([[0.0, -1j], [1j, 0.0]], dtype=np.complex)\n",
    "sigma_z = np.array([[1.0, 0.0], [0.0, -1.0]], dtype=np.complex)\n",
    "sigma_m = np.array([[0.0, 1.0], [0.0, 0.0]], dtype=np.complex)\n",
    "sigmas = [sigma_x, sigma_y, sigma_z]\n",
    "sigma_names = [\"X\", \"Y\", \"Z\"]\n",
    "h_gate = (1 / np.sqrt(2)) * np.array([[1, 1], [1, -1]])\n",
    "# Plotting and formatting methods\n",
    "plt.style.use(qv.get_qctrl_style())\n",
    "\n",
    "\n",
    "def plot_simulation_trajectories(figure, times, coherent_samples, noisy_trajectories):\n",
    "    ideal_bloch_sphere_coords = np.array(\n",
    "        [\n",
    "            [\n",
    "                np.real(\n",
    "                    np.dot(\n",
    "                        sample.state_vector.conj(),\n",
    "                        np.matmul(sigma, sample.state_vector),\n",
    "                    )\n",
    "                )\n",
    "                for sigma in sigmas\n",
    "            ]\n",
    "            for sample in coherent_samples\n",
    "        ]\n",
    "    )\n",
    "    noisy_bloch_sphere_coords = np.array(\n",
    "        [\n",
    "            [\n",
    "                [\n",
    "                    np.real(\n",
    "                        np.dot(\n",
    "                            sample.state_vector.conj(),\n",
    "                            np.matmul(sigma, sample.state_vector),\n",
    "                        )\n",
    "                    )\n",
    "                    for sigma in sigmas\n",
    "                ]\n",
    "                for sample in trajectory.samples\n",
    "            ]\n",
    "            for trajectory in noisy_trajectories\n",
    "        ]\n",
    "    )\n",
    "    figure.set_figheight(6.0)\n",
    "    figure.set_figwidth(7.0)\n",
    "    axes = figure.subplots(nrows=3, ncols=1, sharex=True, sharey=False, squeeze=False)[\n",
    "        :, 0\n",
    "    ]\n",
    "    for a in range(3):\n",
    "        axes[a].set_ylabel(sigma_names[a])\n",
    "        axes[a].set_ylim([-1.1, 1.1])\n",
    "        for t in range(noisy_bloch_sphere_coords.shape[0]):\n",
    "            axes[a].plot(\n",
    "                times * 1e6,\n",
    "                noisy_bloch_sphere_coords[t, :, a],\n",
    "                \"--\",\n",
    "                color=\"#680CE9\",\n",
    "                alpha=0.25,\n",
    "            )\n",
    "        axes[a].plot(times * 1e6, ideal_bloch_sphere_coords[:, a], \"-\", color=\"#680CE9\")\n",
    "    axes[2].set_xlabel(\"Time ($\\mu$s)\")\n",
    "    axes[0].set_title(\"Bloch sphere coordinates\")\n",
    "\n",
    "\n",
    "def plot_simulation_noise_directions(figure, times, coherent_samples):\n",
    "    figure.set_figheight(6.0)\n",
    "    figure.set_figwidth(7.0)\n",
    "    noise_operator_directions = np.array(\n",
    "        [\n",
    "            [\n",
    "                0.5\n",
    "                * np.real(\n",
    "                    np.trace(\n",
    "                        np.matmul(\n",
    "                            sigma,\n",
    "                            np.matmul(\n",
    "                                sample.evolution_operator.conj().T,\n",
    "                                np.matmul(sigma_z, sample.evolution_operator),\n",
    "                            ),\n",
    "                        )\n",
    "                    )\n",
    "                )\n",
    "                for sigma in sigmas\n",
    "            ]\n",
    "            for sample in coherent_samples\n",
    "        ]\n",
    "    )\n",
    "    axes = figure.subplots(nrows=3, ncols=1, sharex=True, sharey=False, squeeze=False)[\n",
    "        :, 0\n",
    "    ]\n",
    "    for a in range(3):\n",
    "        axes[a].set_ylabel(sigma_names[a])\n",
    "        axes[a].set_ylim([-1.1, 1.1])\n",
    "        axes[a].plot(\n",
    "            robust_point_times * 1e6,\n",
    "            noise_operator_directions[:, a],\n",
    "            \"-\",\n",
    "            color=\"#680CE9\",\n",
    "        )\n",
    "        axes[a].fill_between(\n",
    "            robust_point_times * 1e6,\n",
    "            0,\n",
    "            noise_operator_directions[:, a],\n",
    "            color=\"#680CE9\",\n",
    "            alpha=0.25,\n",
    "        )\n",
    "    axes[2].set_xlabel(\"Time ($\\mu$s)\")\n",
    "    axes[0].set_title(\"Bloch sphere directions\")\n",
    "\n",
    "\n",
    "def plot_noise_spectral_density(figure, nsd_samples):\n",
    "    frequencies = np.array([sample[\"frequency\"] for sample in nsd_samples])\n",
    "    powers = np.array([sample[\"power\"] for sample in nsd_samples])\n",
    "    axes = figure.subplots(nrows=1, ncols=1, sharex=True, sharey=False, squeeze=False)[\n",
    "        0, 0\n",
    "    ]\n",
    "    axes.plot(frequencies / 1e6, powers * 1e6)\n",
    "    axes.fill_between(frequencies / 1e6, 0, powers * 1e6, alpha=0.25)\n",
    "    axes.set_xlabel(\"Frequency (MHz)\")\n",
    "    axes.set_ylabel(\"Power density (1/MHz)\")\n",
    "    axes.set_title(\"Dephasing noise spectral density\")\n",
    "\n",
    "\n",
    "def pm_format(average, std):\n",
    "    return \"{:.4f}\".format(average) + \"+/-\" + \"{:.4f}\".format(std)\n",
    "\n",
    "\n",
    "def bandwidth_limited_pwc_signal(\n",
    "    name, duration, segment_count, max_rabi_rate, cutoff_frequency\n",
    "):\n",
    "\n",
    "    # create a raw pwc_signal where the amplitude of each segment is an optimization variables\n",
    "    raw_signal = qctrl.operations.pwc_signal(\n",
    "        values=qctrl.operations.bounded_optimization_variable(\n",
    "            count=segment_count, lower_bound=-max_rabi_rate, upper_bound=max_rabi_rate\n",
    "        ),\n",
    "        duration=duration,\n",
    "    )\n",
    "\n",
    "    # pass the signal through a bandwidth limited filter\n",
    "    filtered_signal = qctrl.operations.convolve_pwc(\n",
    "        raw_signal, qctrl.operations.sinc_integral_function(cutoff_frequency)\n",
    "    )\n",
    "\n",
    "    # resample the smooth filtered signal as a pwc_signal\n",
    "    final_signal = qctrl.operations.discretize_stf(\n",
    "        stf=filtered_signal,\n",
    "        duration=robust_duration,\n",
    "        segments_count=segment_count,\n",
    "        name=name,\n",
    "    )\n",
    "\n",
    "    return final_signal\n"
   ]
  },
  {
   "cell_type": "code",
   "execution_count": 64,
   "metadata": {},
   "outputs": [
    {
     "data": {
      "image/png": "[encoded data removed]",
      "text/plain": [
       "<Figure size 504x144 with 1 Axes>"
      ]
     },
     "metadata": {
      "needs_background": "light"
     },
     "output_type": "display_data"
    }
   ],
   "source": [
    "omega_max = 40 * np.pi *1e6  # Hz\n",
    "\n",
    "standard_duration = 3* np.pi / (2 * omega_max )  # ms\n",
    "\n",
    "standard_pulse_segments = [\n",
    "    qctrl.types.ComplexSegmentInput(duration=standard_duration, value=omega_max),\n",
    "]\n",
    "\n",
    "plot_segments = {\n",
    "    \"$\\Omega_Q$\": [\n",
    "        {\"duration\": segment.duration, \"value\": segment.value}\n",
    "        for segment in standard_pulse_segments\n",
    "    ]\n",
    "}\n",
    "\n",
    "qv.plot_controls(plt.figure(), plot_segments)\n",
    "plt.show()\n"
   ]
  },
  {
   "cell_type": "code",
   "execution_count": 65,
   "metadata": {},
   "outputs": [
    {
     "data": {
      "image/png": "[encoded data removed]",
      "text/plain": [
       "<Figure size 432x288 with 1 Axes>"
      ]
     },
     "metadata": {
      "needs_background": "light"
     },
     "output_type": "display_data"
    }
   ],
   "source": [
    "def power_spectrum(frequencies, frequency_cutoff, power):\n",
    "    return frequency_cutoff ** (power - 1) / (\n",
    "        frequencies ** power + frequency_cutoff ** power\n",
    "    )\n",
    "\n",
    "\n",
    "frequencies = np.linspace(0, 2.0e4, 1000)\n",
    "power_densities = 4e10 * power_spectrum(frequencies, 1.0e2, 1.0)\n",
    "nsd_sampled_points = [\n",
    "    {\"frequency\": f, \"power\": p, \"power_uncertainty\": 0.0, \"weight\": 0.0}\n",
    "    for f, p in zip(frequencies, power_densities)\n",
    "]\n",
    "\n",
    "plot_noise_spectral_density(plt.figure(), nsd_sampled_points)\n"
   ]
  },
  {
   "cell_type": "code",
   "execution_count": 66,
   "metadata": {},
   "outputs": [],
   "source": [
    "standard_control = qctrl.types.colored_noise_simulation.Shift(\n",
    "    control=standard_pulse_segments, operator=sigma_y / 2.0\n",
    ")\n",
    "\n",
    "noise_drift = qctrl.types.colored_noise_simulation.Drift(\n",
    "    operator=sigma_z / 4.0,\n",
    "    noise=qctrl.types.colored_noise_simulation.Noise(\n",
    "        power_densities=power_densities,\n",
    "        frequency_step=frequencies[1],\n",
    "        time_domain_sample_count=1000,\n",
    "    ),\n",
    ")\n",
    "\n",
    "target = qctrl.types.TargetInput(operator=h_gate)\n"
   ]
  },
  {
   "cell_type": "code",
   "execution_count": 67,
   "metadata": {},
   "outputs": [
    {
     "data": {
      "application/vnd.jupyter.widget-view+json": {
       "model_id": "",
       "version_major": 2,
       "version_minor": 0
      },
      "text/plain": [
       "  0%|          | 0/100 [00:00<?, ?it/s]"
      ]
     },
     "metadata": {},
     "output_type": "display_data"
    },
    {
     "name": "stdout",
     "output_type": "stream",
     "text": [
      "Your task calculate_colored_noise_simulation has started.\n",
      "Your task calculate_colored_noise_simulation has completed in 8s.\n"
     ]
    }
   ],
   "source": [
    "standard_point_times = np.linspace(0, standard_duration, 100)\n",
    "\n",
    "standard_noisy_simulation_result = qctrl.functions.calculate_colored_noise_simulation(\n",
    "    duration=standard_duration,\n",
    "    sample_times=standard_point_times,\n",
    "    shifts=[standard_control],\n",
    "    drifts=[noise_drift],\n",
    "    trajectory_count=5,\n",
    "    initial_state_vector=np.array([1.0, 0.0]),\n",
    "    target=target,\n",
    ")\n"
   ]
  },
  {
   "cell_type": "code",
   "execution_count": 68,
   "metadata": {},
   "outputs": [
    {
     "data": {
      "application/vnd.jupyter.widget-view+json": {
       "model_id": "",
       "version_major": 2,
       "version_minor": 0
      },
      "text/plain": [
       "  0%|          | 0/100 [00:00<?, ?it/s]"
      ]
     },
     "metadata": {},
     "output_type": "display_data"
    },
    {
     "name": "stdout",
     "output_type": "stream",
     "text": [
      "Your task calculate_coherent_simulation has completed in 4s.\n"
     ]
    }
   ],
   "source": [
    "standard_ideal_simulation_result = qctrl.functions.calculate_coherent_simulation(\n",
    "    duration=standard_duration,\n",
    "    sample_times=standard_point_times,\n",
    "    shifts=[standard_control],\n",
    "    initial_state_vector=np.array([1.0, 0.0]),\n",
    "    target=target,\n",
    ")\n"
   ]
  },
  {
   "cell_type": "code",
   "execution_count": 69,
   "metadata": {},
   "outputs": [
    {
     "data": {
      "image/png": "[encoded data removed]",
      "text/plain": [
       "<Figure size 504x432 with 3 Axes>"
      ]
     },
     "metadata": {
      "needs_background": "light"
     },
     "output_type": "display_data"
    }
   ],
   "source": [
    "plot_simulation_trajectories(\n",
    "    plt.figure(),\n",
    "    standard_point_times,\n",
    "    standard_ideal_simulation_result.samples,\n",
    "    standard_noisy_simulation_result.trajectories,\n",
    ")\n",
    "plt.show()\n"
   ]
  },
  {
   "cell_type": "code",
   "execution_count": 70,
   "metadata": {},
   "outputs": [
    {
     "name": "stdout",
     "output_type": "stream",
     "text": [
      "Average gate infidelity:\n",
      "1.0000+/-0.0000\n"
     ]
    }
   ],
   "source": [
    "standard_final_sample = standard_noisy_simulation_result.average_samples[-1]\n",
    "print(\"Average gate infidelity:\")\n",
    "print(\n",
    "    pm_format(\n",
    "        standard_final_sample.average_infidelity,\n",
    "        standard_final_sample.average_infidelity_uncertainty,\n",
    "    )\n",
    ")"
   ]
  },
  {
   "cell_type": "code",
   "execution_count": 71,
   "metadata": {},
   "outputs": [
    {
     "data": {
      "application/vnd.jupyter.widget-view+json": {
       "model_id": "",
       "version_major": 2,
       "version_minor": 0
      },
      "text/plain": [
       "  0%|          | 0/100 [00:00<?, ?it/s]"
      ]
     },
     "metadata": {},
     "output_type": "display_data"
    },
    {
     "name": "stdout",
     "output_type": "stream",
     "text": [
      "Your task calculate_filter_function has completed in 5s.\n"
     ]
    }
   ],
   "source": [
    "sample_count = 3000\n",
    "interpolated_frequencies = omega_max * np.logspace(-8, 1, 1000, base=10)\n",
    "\n",
    "filter_noise_drift = qctrl.types.filter_function.Drift(\n",
    "    noise=True, operator=sigma_z / 4.0\n",
    ")\n",
    "\n",
    "standard_filter_function_results = qctrl.functions.calculate_filter_function(\n",
    "    duration=standard_duration,\n",
    "    frequencies=interpolated_frequencies,\n",
    "    sample_count=sample_count,\n",
    "    shifts=[standard_control],\n",
    "    drifts=[filter_noise_drift],\n",
    ")\n"
   ]
  },
  {
   "cell_type": "code",
   "execution_count": 72,
   "metadata": {},
   "outputs": [
    {
     "data": {
      "image/png": "[encoded data removed]",
      "text/plain": [
       "<Figure size 864x432 with 1 Axes>"
      ]
     },
     "metadata": {
      "needs_background": "light"
     },
     "output_type": "display_data"
    }
   ],
   "source": [
    "standard_filter_function_interpolated_points = [\n",
    "    asdict(sample) for sample in standard_filter_function_results.samples\n",
    "]\n",
    "\n",
    "qv.plot_filter_functions(\n",
    "    plt.figure(), {\"Standard H-Gate\": standard_filter_function_interpolated_points}\n",
    ")\n",
    "plt.show()\n"
   ]
  },
  {
   "cell_type": "code",
   "execution_count": 73,
   "metadata": {},
   "outputs": [
    {
     "name": "stdout",
     "output_type": "stream",
     "text": [
      "Approximate filter function gate infidelity:\n",
      "0.000002\n"
     ]
    }
   ],
   "source": [
    "integral_max = 1e5\n",
    "\n",
    "standard_frequencies = np.array(\n",
    "    [\n",
    "        sample.frequency\n",
    "        for sample in standard_filter_function_results.samples\n",
    "        if sample.frequency < integral_max\n",
    "    ]\n",
    ")\n",
    "standard_inverse_powers = np.array(\n",
    "    [\n",
    "        sample.inverse_power\n",
    "        for sample in standard_filter_function_results.samples\n",
    "        if sample.frequency < integral_max\n",
    "    ]\n",
    ")\n",
    "standard_filter_function_infidelity = np.trapz(\n",
    "    y=standard_inverse_powers * 4e10 * power_spectrum(standard_frequencies, 1.0e2, 1.0),\n",
    "    x=standard_frequencies,\n",
    ")\n",
    "\n",
    "print(\"Approximate filter function gate infidelity:\")\n",
    "print(\"{:4f}\".format(standard_filter_function_infidelity))\n"
   ]
  },
  {
   "cell_type": "code",
   "execution_count": 74,
   "metadata": {},
   "outputs": [],
   "source": [
    "robust_duration = 3.0 * standard_duration\n",
    "omega_cutoff = 1e7\n",
    "segment_count = 100\n",
    "\n",
    "with qctrl.create_graph() as graph:\n",
    "\n",
    "    # Omega_I(v,t)\n",
    "    pulse_i = bandwidth_limited_pwc_signal(\n",
    "        name=\"I\",\n",
    "        duration=robust_duration,\n",
    "        segment_count=segment_count,\n",
    "        max_rabi_rate=omega_max,\n",
    "        cutoff_frequency=omega_cutoff,\n",
    "    )\n",
    "\n",
    "    # Omega_Q(v,t)\n",
    "    pulse_q = bandwidth_limited_pwc_signal(\n",
    "        name=\"Q\",\n",
    "        duration=robust_duration,\n",
    "        segment_count=segment_count,\n",
    "        max_rabi_rate=omega_max,\n",
    "        cutoff_frequency=omega_cutoff,\n",
    "    )\n",
    "\n",
    "    # Omega_I(t) sigma_x/2\n",
    "    robust_control_i = qctrl.operations.pwc_operator(\n",
    "        signal=pulse_i, operator=sigma_x / 2.0\n",
    "    )\n",
    "\n",
    "    # Omega_Q(t) sigma_y/2\n",
    "    robust_control_q = qctrl.operations.pwc_operator(\n",
    "        signal=pulse_q, operator=sigma_y / 2.0\n",
    "    )\n",
    "\n",
    "    # H_control = Omega_I(t) sigma_x/2 + Omega_Q(t) sigma_y/2\n",
    "    control_hamiltonian = qctrl.operations.pwc_sum([robust_control_i, robust_control_q])\n",
    "\n",
    "    # sigma_z / 2w\n",
    "    noise_operator = qctrl.operations.constant_pwc_operator(\n",
    "        robust_duration, sigma_z / 4.0 / robust_duration\n",
    "    )\n",
    "\n",
    "    # create U_target\n",
    "    target_unitary = qctrl.operations.target(operator=h_gate)\n",
    "\n",
    "    # create I_robust(v) = I_control(v) + I_noise(v)\n",
    "    infidelity = qctrl.operations.infidelity_pwc(\n",
    "        hamiltonian=control_hamiltonian,\n",
    "        noise_operators=[\n",
    "            noise_operator,\n",
    "        ],\n",
    "        target_operator=target_unitary,\n",
    "        name=\"infidelity\",\n",
    "    )\n"
   ]
  },
  {
   "cell_type": "code",
   "execution_count": 75,
   "metadata": {},
   "outputs": [
    {
     "data": {
      "application/vnd.jupyter.widget-view+json": {
       "model_id": "",
       "version_major": 2,
       "version_minor": 0
      },
      "text/plain": [
       "  0%|          | 0/100 [00:00<?, ?it/s]"
      ]
     },
     "metadata": {},
     "output_type": "display_data"
    },
    {
     "name": "stdout",
     "output_type": "stream",
     "text": [
      "Your task calculate_optimization has started.\n",
      "Your task calculate_optimization has completed in 22s.\n"
     ]
    }
   ],
   "source": [
    "optimization_result = qctrl.functions.calculate_optimization(\n",
    "    cost_node_name=\"infidelity\",\n",
    "    output_node_names=[\"infidelity\", \"I\", \"Q\"],\n",
    "    graph=graph,\n",
    ")\n"
   ]
  },
  {
   "cell_type": "code",
   "execution_count": 76,
   "metadata": {},
   "outputs": [
    {
     "name": "stdout",
     "output_type": "stream",
     "text": [
      "Best cost:\n",
      "0.4710427558265981\n"
     ]
    }
   ],
   "source": [
    "print(\"Best cost:\")\n",
    "print(optimization_result.cost)\n"
   ]
  },
  {
   "cell_type": "code",
   "execution_count": 77,
   "metadata": {},
   "outputs": [
    {
     "data": {
      "image/png": "[encoded data removed]",
      "text/plain": [
       "<Figure size 504x288 with 2 Axes>"
      ]
     },
     "metadata": {
      "needs_background": "light"
     },
     "output_type": "display_data"
    }
   ],
   "source": [
    "qv.plot_controls(\n",
    "    plt.figure(),\n",
    "    {\n",
    "        \"$\\Omega_I$\": optimization_result.output[\"I\"],\n",
    "        \"$\\Omega_Q$\": optimization_result.output[\"Q\"],\n",
    "    },\n",
    ")\n",
    "plt.show()\n"
   ]
  },
  {
   "cell_type": "code",
   "execution_count": 78,
   "metadata": {},
   "outputs": [
    {
     "data": {
      "application/vnd.jupyter.widget-view+json": {
       "model_id": "",
       "version_major": 2,
       "version_minor": 0
      },
      "text/plain": [
       "  0%|          | 0/100 [00:00<?, ?it/s]"
      ]
     },
     "metadata": {},
     "output_type": "display_data"
    },
    {
     "name": "stdout",
     "output_type": "stream",
     "text": [
      "Your task calculate_filter_function has started.\n",
      "Your task calculate_filter_function has completed in 8s.\n"
     ]
    }
   ],
   "source": [
    "robust_pulse_segments_i = [\n",
    "    qctrl.types.RealSegmentInput(duration=segment[\"duration\"], value=segment[\"value\"])\n",
    "    for segment in optimization_result.output[\"I\"]\n",
    "]\n",
    "\n",
    "robust_pulse_segments_q = [\n",
    "    qctrl.types.RealSegmentInput(duration=segment[\"duration\"], value=segment[\"value\"])\n",
    "    for segment in optimization_result.output[\"Q\"]\n",
    "]\n",
    "\n",
    "robust_control_i = qctrl.types.colored_noise_simulation.Shift(\n",
    "    control=robust_pulse_segments_i, operator=sigma_x / 2.0\n",
    ")\n",
    "\n",
    "robust_control_q = qctrl.types.colored_noise_simulation.Shift(\n",
    "    control=robust_pulse_segments_q, operator=sigma_y / 2.0\n",
    ")\n",
    "\n",
    "sample_count = 3000\n",
    "interpolated_frequencies = omega_max * np.logspace(-8, 1, 1000, base=10)\n",
    "\n",
    "robust_filter_function_results = qctrl.functions.calculate_filter_function(\n",
    "    duration=robust_duration,\n",
    "    frequencies=interpolated_frequencies,\n",
    "    sample_count=sample_count,\n",
    "    shifts=[robust_control_i, robust_control_q],\n",
    "    drifts=[filter_noise_drift],\n",
    ")\n"
   ]
  },
  {
   "cell_type": "code",
   "execution_count": 79,
   "metadata": {},
   "outputs": [
    {
     "data": {
      "image/png": "[encoded data removed]",
      "text/plain": [
       "<Figure size 864x432 with 1 Axes>"
      ]
     },
     "metadata": {
      "needs_background": "light"
     },
     "output_type": "display_data"
    }
   ],
   "source": [
    "robust_filter_function_interpolated_points = [\n",
    "    asdict(sample) for sample in robust_filter_function_results.samples\n",
    "]\n",
    "\n",
    "qv.plot_filter_functions(\n",
    "    plt.figure(),\n",
    "    {\n",
    "        \"Standard H-gate\": standard_filter_function_interpolated_points,\n",
    "        \"Robust H-gate\": robust_filter_function_interpolated_points,\n",
    "    },\n",
    ")\n",
    "plt.show()\n"
   ]
  },
  {
   "cell_type": "code",
   "execution_count": 80,
   "metadata": {},
   "outputs": [
    {
     "name": "stdout",
     "output_type": "stream",
     "text": [
      "Approximate filter function standard gate infidelity:\n",
      "0.000002\n",
      "Approximate filter function robust gate infidelity:\n",
      "0.000082\n"
     ]
    }
   ],
   "source": [
    "robust_frequencies = np.array(\n",
    "    [\n",
    "        sample.frequency\n",
    "        for sample in robust_filter_function_results.samples\n",
    "        if sample.frequency < integral_max\n",
    "    ]\n",
    ")\n",
    "robust_inverse_powers = np.array(\n",
    "    [\n",
    "        sample.inverse_power\n",
    "        for sample in robust_filter_function_results.samples\n",
    "        if sample.frequency < integral_max\n",
    "    ]\n",
    ")\n",
    "robust_filter_function_infidelity = np.trapz(\n",
    "    y=robust_inverse_powers * 4e10 * power_spectrum(robust_frequencies, 1.0e2, 1.0),\n",
    "    x=robust_frequencies,\n",
    ")\n",
    "\n",
    "print(\"Approximate filter function standard gate infidelity:\")\n",
    "print(\"{:4f}\".format(standard_filter_function_infidelity))\n",
    "\n",
    "print(\"Approximate filter function robust gate infidelity:\")\n",
    "print(\"{:4f}\".format(robust_filter_function_infidelity))\n"
   ]
  },
  {
   "cell_type": "code",
   "execution_count": 81,
   "metadata": {},
   "outputs": [
    {
     "data": {
      "application/vnd.jupyter.widget-view+json": {
       "model_id": "",
       "version_major": 2,
       "version_minor": 0
      },
      "text/plain": [
       "  0%|          | 0/100 [00:00<?, ?it/s]"
      ]
     },
     "metadata": {},
     "output_type": "display_data"
    },
    {
     "name": "stdout",
     "output_type": "stream",
     "text": [
      "Your task calculate_colored_noise_simulation has started.\n",
      "Your task calculate_colored_noise_simulation has completed in 25s.\n"
     ]
    }
   ],
   "source": [
    "robust_point_times = np.linspace(0, robust_duration, 100)\n",
    "\n",
    "robust_noisy_simulation_result = qctrl.functions.calculate_colored_noise_simulation(\n",
    "    duration=robust_duration,\n",
    "    sample_times=robust_point_times,\n",
    "    shifts=[robust_control_i, robust_control_q],\n",
    "    drifts=[noise_drift],\n",
    "    trajectory_count=10,\n",
    "    initial_state_vector=np.array([1.0, 0.0]),\n",
    "    target=target,\n",
    ")\n"
   ]
  },
  {
   "cell_type": "code",
   "execution_count": 82,
   "metadata": {},
   "outputs": [
    {
     "data": {
      "application/vnd.jupyter.widget-view+json": {
       "model_id": "",
       "version_major": 2,
       "version_minor": 0
      },
      "text/plain": [
       "  0%|          | 0/100 [00:00<?, ?it/s]"
      ]
     },
     "metadata": {},
     "output_type": "display_data"
    },
    {
     "name": "stdout",
     "output_type": "stream",
     "text": [
      "Your task calculate_coherent_simulation has completed in 4s.\n"
     ]
    }
   ],
   "source": [
    "robust_ideal_simulation_result = qctrl.functions.calculate_coherent_simulation(\n",
    "    duration=robust_duration,\n",
    "    sample_times=robust_point_times,\n",
    "    shifts=[robust_control_i, robust_control_q],\n",
    "    initial_state_vector=np.array([1.0, 0.0]),\n",
    "    target=target,\n",
    ")\n"
   ]
  },
  {
   "cell_type": "code",
   "execution_count": 83,
   "metadata": {},
   "outputs": [
    {
     "data": {
      "image/png": "[encoded data removed]",
      "text/plain": [
       "<Figure size 504x432 with 3 Axes>"
      ]
     },
     "metadata": {
      "needs_background": "light"
     },
     "output_type": "display_data"
    }
   ],
   "source": [
    "plot_simulation_trajectories(\n",
    "    plt.figure(),\n",
    "    standard_point_times,\n",
    "    robust_ideal_simulation_result.samples,\n",
    "    robust_noisy_simulation_result.trajectories,\n",
    ")\n",
    "plt.show()\n"
   ]
  },
  {
   "cell_type": "code",
   "execution_count": 84,
   "metadata": {},
   "outputs": [
    {
     "name": "stdout",
     "output_type": "stream",
     "text": [
      "Average gate infidelity:\n",
      "Average standard gate infidelity:\n",
      "1.0000+/-0.0000\n",
      "Average robust gate infidelity:\n",
      "0.4492+/-0.0022\n"
     ]
    }
   ],
   "source": [
    "robust_final_sample = robust_noisy_simulation_result.average_samples[-1]\n",
    "\n",
    "print(\"Average gate infidelity:\")\n",
    "\n",
    "print(\"Average standard gate infidelity:\")\n",
    "print(\n",
    "    pm_format(\n",
    "        standard_final_sample.average_infidelity,\n",
    "        standard_final_sample.average_infidelity_uncertainty,\n",
    "    )\n",
    ")\n",
    "\n",
    "print(\"Average robust gate infidelity:\")\n",
    "print(\n",
    "    pm_format(\n",
    "        robust_final_sample.average_infidelity,\n",
    "        robust_final_sample.average_infidelity_uncertainty,\n",
    "    )\n",
    ")\n"
   ]
  },
  {
   "cell_type": "code",
   "execution_count": 85,
   "metadata": {},
   "outputs": [
    {
     "data": {
      "image/png": "[encoded data removed]",
      "text/plain": [
       "<Figure size 504x432 with 3 Axes>"
      ]
     },
     "metadata": {
      "needs_background": "light"
     },
     "output_type": "display_data"
    }
   ],
   "source": [
    "coherent_frames = robust_ideal_simulation_result.samples\n",
    "\n",
    "figure = plt.figure()\n",
    "plot_simulation_noise_directions(figure, robust_point_times, coherent_frames)\n",
    "plt.show()"
   ]
  },
  {
   "cell_type": "code",
   "execution_count": null,
   "metadata": {},
   "outputs": [],
   "source": []
  },
  {
   "cell_type": "code",
   "execution_count": null,
   "metadata": {},
   "outputs": [],
   "source": []
  }
 ],
 "metadata": {
  "kernelspec": {
   "display_name": "Python 3",
   "language": "python",
   "name": "python3"
  },
  "language_info": {
   "codemirror_mode": {
    "name": "ipython",
    "version": 3
   },
   "file_extension": ".py",
   "mimetype": "text/x-python",
   "name": "python",
   "nbconvert_exporter": "python",
   "pygments_lexer": "ipython3",
   "version": "3.7.7"
  }
 },
 "nbformat": 4,
 "nbformat_minor": 4
}
