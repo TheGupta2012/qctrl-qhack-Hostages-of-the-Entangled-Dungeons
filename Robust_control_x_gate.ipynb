{
  "nbformat": 4,
  "nbformat_minor": 0,
  "metadata": {
    "kernelspec": {
      "display_name": "Python 3",
      "language": "python",
      "name": "python3"
    },
    "language_info": {
      "codemirror_mode": {
        "name": "ipython",
        "version": 3
      },
      "file_extension": ".py",
      "mimetype": "text/x-python",
      "name": "python",
      "nbconvert_exporter": "python",
      "pygments_lexer": "ipython3",
      "version": "3.7.6"
    },
    "colab": {
      "name": "Robust-control-x-gate",
      "provenance": [],
      "collapsed_sections": [],
      "include_colab_link": true
    },
    "widgets": {
      "application/vnd.jupyter.widget-state+json": {
        "a5223dd97cfc4ec6bdce2a493690b331": {
          "model_module": "@jupyter-widgets/controls",
          "model_name": "HBoxModel",
          "state": {
            "_view_name": "HBoxView",
            "_dom_classes": [],
            "_model_name": "HBoxModel",
            "_view_module": "@jupyter-widgets/controls",
            "_model_module_version": "1.5.0",
            "_view_count": null,
            "_view_module_version": "1.5.0",
            "box_style": "",
            "layout": "IPY_MODEL_09de3f31b8b54ea8871cdb138770cd90",
            "_model_module": "@jupyter-widgets/controls",
            "children": [
              "IPY_MODEL_3f42256d1f0343319f9969e02083448e",
              "IPY_MODEL_435f2384066744f4bec7da610aff4f2d"
            ]
          }
        },
        "09de3f31b8b54ea8871cdb138770cd90": {
          "model_module": "@jupyter-widgets/base",
          "model_name": "LayoutModel",
          "state": {
            "_view_name": "LayoutView",
            "grid_template_rows": null,
            "right": null,
            "justify_content": null,
            "_view_module": "@jupyter-widgets/base",
            "overflow": null,
            "_model_module_version": "1.2.0",
            "_view_count": null,
            "flex_flow": null,
            "width": null,
            "min_width": null,
            "border": null,
            "align_items": null,
            "bottom": null,
            "_model_module": "@jupyter-widgets/base",
            "top": null,
            "grid_column": null,
            "overflow_y": null,
            "overflow_x": null,
            "grid_auto_flow": null,
            "grid_area": null,
            "grid_template_columns": null,
            "flex": null,
            "_model_name": "LayoutModel",
            "justify_items": null,
            "grid_row": null,
            "max_height": null,
            "align_content": null,
            "visibility": null,
            "align_self": null,
            "height": null,
            "min_height": null,
            "padding": null,
            "grid_auto_rows": null,
            "grid_gap": null,
            "max_width": null,
            "order": null,
            "_view_module_version": "1.2.0",
            "grid_template_areas": null,
            "object_position": null,
            "object_fit": null,
            "grid_auto_columns": null,
            "margin": null,
            "display": null,
            "left": null
          }
        },
        "3f42256d1f0343319f9969e02083448e": {
          "model_module": "@jupyter-widgets/controls",
          "model_name": "FloatProgressModel",
          "state": {
            "_view_name": "ProgressView",
            "style": "IPY_MODEL_4fd6600bbe784a36ab18081efc6fa5a2",
            "_dom_classes": [],
            "description": "100%",
            "_model_name": "FloatProgressModel",
            "bar_style": "",
            "max": 100,
            "_view_module": "@jupyter-widgets/controls",
            "_model_module_version": "1.5.0",
            "value": 100,
            "_view_count": null,
            "_view_module_version": "1.5.0",
            "orientation": "horizontal",
            "min": 0,
            "description_tooltip": null,
            "_model_module": "@jupyter-widgets/controls",
            "layout": "IPY_MODEL_7cd27664dfea4fda9e55fa7778bad85a"
          }
        },
        "435f2384066744f4bec7da610aff4f2d": {
          "model_module": "@jupyter-widgets/controls",
          "model_name": "HTMLModel",
          "state": {
            "_view_name": "HTMLView",
            "style": "IPY_MODEL_5e5604bc70a14b728fdae24055a23b87",
            "_dom_classes": [],
            "description": "",
            "_model_name": "HTMLModel",
            "placeholder": "​",
            "_view_module": "@jupyter-widgets/controls",
            "_model_module_version": "1.5.0",
            "value": " 100/100 [00:08&lt;00:00, 10.46it/s]",
            "_view_count": null,
            "_view_module_version": "1.5.0",
            "description_tooltip": null,
            "_model_module": "@jupyter-widgets/controls",
            "layout": "IPY_MODEL_f5694e70e98b460bbc7ff537ef4dde3f"
          }
        },
        "4fd6600bbe784a36ab18081efc6fa5a2": {
          "model_module": "@jupyter-widgets/controls",
          "model_name": "ProgressStyleModel",
          "state": {
            "_view_name": "StyleView",
            "_model_name": "ProgressStyleModel",
            "description_width": "initial",
            "_view_module": "@jupyter-widgets/base",
            "_model_module_version": "1.5.0",
            "_view_count": null,
            "_view_module_version": "1.2.0",
            "bar_color": null,
            "_model_module": "@jupyter-widgets/controls"
          }
        },
        "7cd27664dfea4fda9e55fa7778bad85a": {
          "model_module": "@jupyter-widgets/base",
          "model_name": "LayoutModel",
          "state": {
            "_view_name": "LayoutView",
            "grid_template_rows": null,
            "right": null,
            "justify_content": null,
            "_view_module": "@jupyter-widgets/base",
            "overflow": null,
            "_model_module_version": "1.2.0",
            "_view_count": null,
            "flex_flow": null,
            "width": null,
            "min_width": null,
            "border": null,
            "align_items": null,
            "bottom": null,
            "_model_module": "@jupyter-widgets/base",
            "top": null,
            "grid_column": null,
            "overflow_y": null,
            "overflow_x": null,
            "grid_auto_flow": null,
            "grid_area": null,
            "grid_template_columns": null,
            "flex": null,
            "_model_name": "LayoutModel",
            "justify_items": null,
            "grid_row": null,
            "max_height": null,
            "align_content": null,
            "visibility": null,
            "align_self": null,
            "height": null,
            "min_height": null,
            "padding": null,
            "grid_auto_rows": null,
            "grid_gap": null,
            "max_width": null,
            "order": null,
            "_view_module_version": "1.2.0",
            "grid_template_areas": null,
            "object_position": null,
            "object_fit": null,
            "grid_auto_columns": null,
            "margin": null,
            "display": null,
            "left": null
          }
        },
        "5e5604bc70a14b728fdae24055a23b87": {
          "model_module": "@jupyter-widgets/controls",
          "model_name": "DescriptionStyleModel",
          "state": {
            "_view_name": "StyleView",
            "_model_name": "DescriptionStyleModel",
            "description_width": "",
            "_view_module": "@jupyter-widgets/base",
            "_model_module_version": "1.5.0",
            "_view_count": null,
            "_view_module_version": "1.2.0",
            "_model_module": "@jupyter-widgets/controls"
          }
        },
        "f5694e70e98b460bbc7ff537ef4dde3f": {
          "model_module": "@jupyter-widgets/base",
          "model_name": "LayoutModel",
          "state": {
            "_view_name": "LayoutView",
            "grid_template_rows": null,
            "right": null,
            "justify_content": null,
            "_view_module": "@jupyter-widgets/base",
            "overflow": null,
            "_model_module_version": "1.2.0",
            "_view_count": null,
            "flex_flow": null,
            "width": null,
            "min_width": null,
            "border": null,
            "align_items": null,
            "bottom": null,
            "_model_module": "@jupyter-widgets/base",
            "top": null,
            "grid_column": null,
            "overflow_y": null,
            "overflow_x": null,
            "grid_auto_flow": null,
            "grid_area": null,
            "grid_template_columns": null,
            "flex": null,
            "_model_name": "LayoutModel",
            "justify_items": null,
            "grid_row": null,
            "max_height": null,
            "align_content": null,
            "visibility": null,
            "align_self": null,
            "height": null,
            "min_height": null,
            "padding": null,
            "grid_auto_rows": null,
            "grid_gap": null,
            "max_width": null,
            "order": null,
            "_view_module_version": "1.2.0",
            "grid_template_areas": null,
            "object_position": null,
            "object_fit": null,
            "grid_auto_columns": null,
            "margin": null,
            "display": null,
            "left": null
          }
        },
        "f475dbe819994242b03b9cd615358585": {
          "model_module": "@jupyter-widgets/controls",
          "model_name": "HBoxModel",
          "state": {
            "_view_name": "HBoxView",
            "_dom_classes": [],
            "_model_name": "HBoxModel",
            "_view_module": "@jupyter-widgets/controls",
            "_model_module_version": "1.5.0",
            "_view_count": null,
            "_view_module_version": "1.5.0",
            "box_style": "",
            "layout": "IPY_MODEL_59669a02bbee4fabbc5cf4b85f439797",
            "_model_module": "@jupyter-widgets/controls",
            "children": [
              "IPY_MODEL_5fa71bb8655843e6a0be478cc781f001",
              "IPY_MODEL_8cac75b6da594926809a138a399bfd1a"
            ]
          }
        },
        "59669a02bbee4fabbc5cf4b85f439797": {
          "model_module": "@jupyter-widgets/base",
          "model_name": "LayoutModel",
          "state": {
            "_view_name": "LayoutView",
            "grid_template_rows": null,
            "right": null,
            "justify_content": null,
            "_view_module": "@jupyter-widgets/base",
            "overflow": null,
            "_model_module_version": "1.2.0",
            "_view_count": null,
            "flex_flow": null,
            "width": null,
            "min_width": null,
            "border": null,
            "align_items": null,
            "bottom": null,
            "_model_module": "@jupyter-widgets/base",
            "top": null,
            "grid_column": null,
            "overflow_y": null,
            "overflow_x": null,
            "grid_auto_flow": null,
            "grid_area": null,
            "grid_template_columns": null,
            "flex": null,
            "_model_name": "LayoutModel",
            "justify_items": null,
            "grid_row": null,
            "max_height": null,
            "align_content": null,
            "visibility": null,
            "align_self": null,
            "height": null,
            "min_height": null,
            "padding": null,
            "grid_auto_rows": null,
            "grid_gap": null,
            "max_width": null,
            "order": null,
            "_view_module_version": "1.2.0",
            "grid_template_areas": null,
            "object_position": null,
            "object_fit": null,
            "grid_auto_columns": null,
            "margin": null,
            "display": null,
            "left": null
          }
        },
        "5fa71bb8655843e6a0be478cc781f001": {
          "model_module": "@jupyter-widgets/controls",
          "model_name": "FloatProgressModel",
          "state": {
            "_view_name": "ProgressView",
            "style": "IPY_MODEL_d3f8b5b5039948438b98d7a74247af7b",
            "_dom_classes": [],
            "description": "100%",
            "_model_name": "FloatProgressModel",
            "bar_style": "",
            "max": 100,
            "_view_module": "@jupyter-widgets/controls",
            "_model_module_version": "1.5.0",
            "value": 100,
            "_view_count": null,
            "_view_module_version": "1.5.0",
            "orientation": "horizontal",
            "min": 0,
            "description_tooltip": null,
            "_model_module": "@jupyter-widgets/controls",
            "layout": "IPY_MODEL_5c6330a8f85f4d6696dfc05bd98a533b"
          }
        },
        "8cac75b6da594926809a138a399bfd1a": {
          "model_module": "@jupyter-widgets/controls",
          "model_name": "HTMLModel",
          "state": {
            "_view_name": "HTMLView",
            "style": "IPY_MODEL_78d9f99eb00e4de4b7060bb9e75dc533",
            "_dom_classes": [],
            "description": "",
            "_model_name": "HTMLModel",
            "placeholder": "​",
            "_view_module": "@jupyter-widgets/controls",
            "_model_module_version": "1.5.0",
            "value": " 100/100 [00:02&lt;00:00, 37.98it/s]",
            "_view_count": null,
            "_view_module_version": "1.5.0",
            "description_tooltip": null,
            "_model_module": "@jupyter-widgets/controls",
            "layout": "IPY_MODEL_7dae39412ba245b59f796f696ea610cf"
          }
        },
        "d3f8b5b5039948438b98d7a74247af7b": {
          "model_module": "@jupyter-widgets/controls",
          "model_name": "ProgressStyleModel",
          "state": {
            "_view_name": "StyleView",
            "_model_name": "ProgressStyleModel",
            "description_width": "initial",
            "_view_module": "@jupyter-widgets/base",
            "_model_module_version": "1.5.0",
            "_view_count": null,
            "_view_module_version": "1.2.0",
            "bar_color": null,
            "_model_module": "@jupyter-widgets/controls"
          }
        },
        "5c6330a8f85f4d6696dfc05bd98a533b": {
          "model_module": "@jupyter-widgets/base",
          "model_name": "LayoutModel",
          "state": {
            "_view_name": "LayoutView",
            "grid_template_rows": null,
            "right": null,
            "justify_content": null,
            "_view_module": "@jupyter-widgets/base",
            "overflow": null,
            "_model_module_version": "1.2.0",
            "_view_count": null,
            "flex_flow": null,
            "width": null,
            "min_width": null,
            "border": null,
            "align_items": null,
            "bottom": null,
            "_model_module": "@jupyter-widgets/base",
            "top": null,
            "grid_column": null,
            "overflow_y": null,
            "overflow_x": null,
            "grid_auto_flow": null,
            "grid_area": null,
            "grid_template_columns": null,
            "flex": null,
            "_model_name": "LayoutModel",
            "justify_items": null,
            "grid_row": null,
            "max_height": null,
            "align_content": null,
            "visibility": null,
            "align_self": null,
            "height": null,
            "min_height": null,
            "padding": null,
            "grid_auto_rows": null,
            "grid_gap": null,
            "max_width": null,
            "order": null,
            "_view_module_version": "1.2.0",
            "grid_template_areas": null,
            "object_position": null,
            "object_fit": null,
            "grid_auto_columns": null,
            "margin": null,
            "display": null,
            "left": null
          }
        },
        "78d9f99eb00e4de4b7060bb9e75dc533": {
          "model_module": "@jupyter-widgets/controls",
          "model_name": "DescriptionStyleModel",
          "state": {
            "_view_name": "StyleView",
            "_model_name": "DescriptionStyleModel",
            "description_width": "",
            "_view_module": "@jupyter-widgets/base",
            "_model_module_version": "1.5.0",
            "_view_count": null,
            "_view_module_version": "1.2.0",
            "_model_module": "@jupyter-widgets/controls"
          }
        },
        "7dae39412ba245b59f796f696ea610cf": {
          "model_module": "@jupyter-widgets/base",
          "model_name": "LayoutModel",
          "state": {
            "_view_name": "LayoutView",
            "grid_template_rows": null,
            "right": null,
            "justify_content": null,
            "_view_module": "@jupyter-widgets/base",
            "overflow": null,
            "_model_module_version": "1.2.0",
            "_view_count": null,
            "flex_flow": null,
            "width": null,
            "min_width": null,
            "border": null,
            "align_items": null,
            "bottom": null,
            "_model_module": "@jupyter-widgets/base",
            "top": null,
            "grid_column": null,
            "overflow_y": null,
            "overflow_x": null,
            "grid_auto_flow": null,
            "grid_area": null,
            "grid_template_columns": null,
            "flex": null,
            "_model_name": "LayoutModel",
            "justify_items": null,
            "grid_row": null,
            "max_height": null,
            "align_content": null,
            "visibility": null,
            "align_self": null,
            "height": null,
            "min_height": null,
            "padding": null,
            "grid_auto_rows": null,
            "grid_gap": null,
            "max_width": null,
            "order": null,
            "_view_module_version": "1.2.0",
            "grid_template_areas": null,
            "object_position": null,
            "object_fit": null,
            "grid_auto_columns": null,
            "margin": null,
            "display": null,
            "left": null
          }
        },
        "f90af218e2964e9d8a6621f3fe6cc7e3": {
          "model_module": "@jupyter-widgets/controls",
          "model_name": "HBoxModel",
          "state": {
            "_view_name": "HBoxView",
            "_dom_classes": [],
            "_model_name": "HBoxModel",
            "_view_module": "@jupyter-widgets/controls",
            "_model_module_version": "1.5.0",
            "_view_count": null,
            "_view_module_version": "1.5.0",
            "box_style": "",
            "layout": "IPY_MODEL_f59c41c75306428ca41979e115f4fad5",
            "_model_module": "@jupyter-widgets/controls",
            "children": [
              "IPY_MODEL_aba75b30a1954f6098087cdb7ba205f3",
              "IPY_MODEL_3d69ad2147884c3cae539d91b91a6da8"
            ]
          }
        },
        "f59c41c75306428ca41979e115f4fad5": {
          "model_module": "@jupyter-widgets/base",
          "model_name": "LayoutModel",
          "state": {
            "_view_name": "LayoutView",
            "grid_template_rows": null,
            "right": null,
            "justify_content": null,
            "_view_module": "@jupyter-widgets/base",
            "overflow": null,
            "_model_module_version": "1.2.0",
            "_view_count": null,
            "flex_flow": null,
            "width": null,
            "min_width": null,
            "border": null,
            "align_items": null,
            "bottom": null,
            "_model_module": "@jupyter-widgets/base",
            "top": null,
            "grid_column": null,
            "overflow_y": null,
            "overflow_x": null,
            "grid_auto_flow": null,
            "grid_area": null,
            "grid_template_columns": null,
            "flex": null,
            "_model_name": "LayoutModel",
            "justify_items": null,
            "grid_row": null,
            "max_height": null,
            "align_content": null,
            "visibility": null,
            "align_self": null,
            "height": null,
            "min_height": null,
            "padding": null,
            "grid_auto_rows": null,
            "grid_gap": null,
            "max_width": null,
            "order": null,
            "_view_module_version": "1.2.0",
            "grid_template_areas": null,
            "object_position": null,
            "object_fit": null,
            "grid_auto_columns": null,
            "margin": null,
            "display": null,
            "left": null
          }
        },
        "aba75b30a1954f6098087cdb7ba205f3": {
          "model_module": "@jupyter-widgets/controls",
          "model_name": "FloatProgressModel",
          "state": {
            "_view_name": "ProgressView",
            "style": "IPY_MODEL_f9d81d03368345948e6d56354a1d5e20",
            "_dom_classes": [],
            "description": "100%",
            "_model_name": "FloatProgressModel",
            "bar_style": "",
            "max": 100,
            "_view_module": "@jupyter-widgets/controls",
            "_model_module_version": "1.5.0",
            "value": 100,
            "_view_count": null,
            "_view_module_version": "1.5.0",
            "orientation": "horizontal",
            "min": 0,
            "description_tooltip": null,
            "_model_module": "@jupyter-widgets/controls",
            "layout": "IPY_MODEL_840888b5a309420db98b687916faa3f0"
          }
        },
        "3d69ad2147884c3cae539d91b91a6da8": {
          "model_module": "@jupyter-widgets/controls",
          "model_name": "HTMLModel",
          "state": {
            "_view_name": "HTMLView",
            "style": "IPY_MODEL_71fd0573db93431d81accb02cca329bc",
            "_dom_classes": [],
            "description": "",
            "_model_name": "HTMLModel",
            "placeholder": "​",
            "_view_module": "@jupyter-widgets/controls",
            "_model_module_version": "1.5.0",
            "value": " 100/100 [00:07&lt;00:00,  4.85it/s]",
            "_view_count": null,
            "_view_module_version": "1.5.0",
            "description_tooltip": null,
            "_model_module": "@jupyter-widgets/controls",
            "layout": "IPY_MODEL_863dcd0926f146f58359cf6461aa56d9"
          }
        },
        "f9d81d03368345948e6d56354a1d5e20": {
          "model_module": "@jupyter-widgets/controls",
          "model_name": "ProgressStyleModel",
          "state": {
            "_view_name": "StyleView",
            "_model_name": "ProgressStyleModel",
            "description_width": "initial",
            "_view_module": "@jupyter-widgets/base",
            "_model_module_version": "1.5.0",
            "_view_count": null,
            "_view_module_version": "1.2.0",
            "bar_color": null,
            "_model_module": "@jupyter-widgets/controls"
          }
        },
        "840888b5a309420db98b687916faa3f0": {
          "model_module": "@jupyter-widgets/base",
          "model_name": "LayoutModel",
          "state": {
            "_view_name": "LayoutView",
            "grid_template_rows": null,
            "right": null,
            "justify_content": null,
            "_view_module": "@jupyter-widgets/base",
            "overflow": null,
            "_model_module_version": "1.2.0",
            "_view_count": null,
            "flex_flow": null,
            "width": null,
            "min_width": null,
            "border": null,
            "align_items": null,
            "bottom": null,
            "_model_module": "@jupyter-widgets/base",
            "top": null,
            "grid_column": null,
            "overflow_y": null,
            "overflow_x": null,
            "grid_auto_flow": null,
            "grid_area": null,
            "grid_template_columns": null,
            "flex": null,
            "_model_name": "LayoutModel",
            "justify_items": null,
            "grid_row": null,
            "max_height": null,
            "align_content": null,
            "visibility": null,
            "align_self": null,
            "height": null,
            "min_height": null,
            "padding": null,
            "grid_auto_rows": null,
            "grid_gap": null,
            "max_width": null,
            "order": null,
            "_view_module_version": "1.2.0",
            "grid_template_areas": null,
            "object_position": null,
            "object_fit": null,
            "grid_auto_columns": null,
            "margin": null,
            "display": null,
            "left": null
          }
        },
        "71fd0573db93431d81accb02cca329bc": {
          "model_module": "@jupyter-widgets/controls",
          "model_name": "DescriptionStyleModel",
          "state": {
            "_view_name": "StyleView",
            "_model_name": "DescriptionStyleModel",
            "description_width": "",
            "_view_module": "@jupyter-widgets/base",
            "_model_module_version": "1.5.0",
            "_view_count": null,
            "_view_module_version": "1.2.0",
            "_model_module": "@jupyter-widgets/controls"
          }
        },
        "863dcd0926f146f58359cf6461aa56d9": {
          "model_module": "@jupyter-widgets/base",
          "model_name": "LayoutModel",
          "state": {
            "_view_name": "LayoutView",
            "grid_template_rows": null,
            "right": null,
            "justify_content": null,
            "_view_module": "@jupyter-widgets/base",
            "overflow": null,
            "_model_module_version": "1.2.0",
            "_view_count": null,
            "flex_flow": null,
            "width": null,
            "min_width": null,
            "border": null,
            "align_items": null,
            "bottom": null,
            "_model_module": "@jupyter-widgets/base",
            "top": null,
            "grid_column": null,
            "overflow_y": null,
            "overflow_x": null,
            "grid_auto_flow": null,
            "grid_area": null,
            "grid_template_columns": null,
            "flex": null,
            "_model_name": "LayoutModel",
            "justify_items": null,
            "grid_row": null,
            "max_height": null,
            "align_content": null,
            "visibility": null,
            "align_self": null,
            "height": null,
            "min_height": null,
            "padding": null,
            "grid_auto_rows": null,
            "grid_gap": null,
            "max_width": null,
            "order": null,
            "_view_module_version": "1.2.0",
            "grid_template_areas": null,
            "object_position": null,
            "object_fit": null,
            "grid_auto_columns": null,
            "margin": null,
            "display": null,
            "left": null
          }
        },
        "fd97ef4c823548a9b008d6cec149e2c8": {
          "model_module": "@jupyter-widgets/controls",
          "model_name": "HBoxModel",
          "state": {
            "_view_name": "HBoxView",
            "_dom_classes": [],
            "_model_name": "HBoxModel",
            "_view_module": "@jupyter-widgets/controls",
            "_model_module_version": "1.5.0",
            "_view_count": null,
            "_view_module_version": "1.5.0",
            "box_style": "",
            "layout": "IPY_MODEL_8180ae8a5a2947a09c7c798f8c3e477e",
            "_model_module": "@jupyter-widgets/controls",
            "children": [
              "IPY_MODEL_ebaed8aa9a7d45bcbc36afbec3a9b0fb",
              "IPY_MODEL_92d60a5ba8b84f879db73ef098b07ffc"
            ]
          }
        },
        "8180ae8a5a2947a09c7c798f8c3e477e": {
          "model_module": "@jupyter-widgets/base",
          "model_name": "LayoutModel",
          "state": {
            "_view_name": "LayoutView",
            "grid_template_rows": null,
            "right": null,
            "justify_content": null,
            "_view_module": "@jupyter-widgets/base",
            "overflow": null,
            "_model_module_version": "1.2.0",
            "_view_count": null,
            "flex_flow": null,
            "width": null,
            "min_width": null,
            "border": null,
            "align_items": null,
            "bottom": null,
            "_model_module": "@jupyter-widgets/base",
            "top": null,
            "grid_column": null,
            "overflow_y": null,
            "overflow_x": null,
            "grid_auto_flow": null,
            "grid_area": null,
            "grid_template_columns": null,
            "flex": null,
            "_model_name": "LayoutModel",
            "justify_items": null,
            "grid_row": null,
            "max_height": null,
            "align_content": null,
            "visibility": null,
            "align_self": null,
            "height": null,
            "min_height": null,
            "padding": null,
            "grid_auto_rows": null,
            "grid_gap": null,
            "max_width": null,
            "order": null,
            "_view_module_version": "1.2.0",
            "grid_template_areas": null,
            "object_position": null,
            "object_fit": null,
            "grid_auto_columns": null,
            "margin": null,
            "display": null,
            "left": null
          }
        },
        "ebaed8aa9a7d45bcbc36afbec3a9b0fb": {
          "model_module": "@jupyter-widgets/controls",
          "model_name": "FloatProgressModel",
          "state": {
            "_view_name": "ProgressView",
            "style": "IPY_MODEL_13498cdc69704137ae9bd1eba63517f1",
            "_dom_classes": [],
            "description": "100%",
            "_model_name": "FloatProgressModel",
            "bar_style": "",
            "max": 100,
            "_view_module": "@jupyter-widgets/controls",
            "_model_module_version": "1.5.0",
            "value": 100,
            "_view_count": null,
            "_view_module_version": "1.5.0",
            "orientation": "horizontal",
            "min": 0,
            "description_tooltip": null,
            "_model_module": "@jupyter-widgets/controls",
            "layout": "IPY_MODEL_f526040eacb747218a08a1d70edb225b"
          }
        },
        "92d60a5ba8b84f879db73ef098b07ffc": {
          "model_module": "@jupyter-widgets/controls",
          "model_name": "HTMLModel",
          "state": {
            "_view_name": "HTMLView",
            "style": "IPY_MODEL_ebcb31cba6534799b40ef51d672e3b3d",
            "_dom_classes": [],
            "description": "",
            "_model_name": "HTMLModel",
            "placeholder": "​",
            "_view_module": "@jupyter-widgets/controls",
            "_model_module_version": "1.5.0",
            "value": " 100/100 [00:02&lt;00:00, 39.90it/s]",
            "_view_count": null,
            "_view_module_version": "1.5.0",
            "description_tooltip": null,
            "_model_module": "@jupyter-widgets/controls",
            "layout": "IPY_MODEL_563d52fe490a40ea8a17ce2edcbb7a7f"
          }
        },
        "13498cdc69704137ae9bd1eba63517f1": {
          "model_module": "@jupyter-widgets/controls",
          "model_name": "ProgressStyleModel",
          "state": {
            "_view_name": "StyleView",
            "_model_name": "ProgressStyleModel",
            "description_width": "initial",
            "_view_module": "@jupyter-widgets/base",
            "_model_module_version": "1.5.0",
            "_view_count": null,
            "_view_module_version": "1.2.0",
            "bar_color": null,
            "_model_module": "@jupyter-widgets/controls"
          }
        },
        "f526040eacb747218a08a1d70edb225b": {
          "model_module": "@jupyter-widgets/base",
          "model_name": "LayoutModel",
          "state": {
            "_view_name": "LayoutView",
            "grid_template_rows": null,
            "right": null,
            "justify_content": null,
            "_view_module": "@jupyter-widgets/base",
            "overflow": null,
            "_model_module_version": "1.2.0",
            "_view_count": null,
            "flex_flow": null,
            "width": null,
            "min_width": null,
            "border": null,
            "align_items": null,
            "bottom": null,
            "_model_module": "@jupyter-widgets/base",
            "top": null,
            "grid_column": null,
            "overflow_y": null,
            "overflow_x": null,
            "grid_auto_flow": null,
            "grid_area": null,
            "grid_template_columns": null,
            "flex": null,
            "_model_name": "LayoutModel",
            "justify_items": null,
            "grid_row": null,
            "max_height": null,
            "align_content": null,
            "visibility": null,
            "align_self": null,
            "height": null,
            "min_height": null,
            "padding": null,
            "grid_auto_rows": null,
            "grid_gap": null,
            "max_width": null,
            "order": null,
            "_view_module_version": "1.2.0",
            "grid_template_areas": null,
            "object_position": null,
            "object_fit": null,
            "grid_auto_columns": null,
            "margin": null,
            "display": null,
            "left": null
          }
        },
        "ebcb31cba6534799b40ef51d672e3b3d": {
          "model_module": "@jupyter-widgets/controls",
          "model_name": "DescriptionStyleModel",
          "state": {
            "_view_name": "StyleView",
            "_model_name": "DescriptionStyleModel",
            "description_width": "",
            "_view_module": "@jupyter-widgets/base",
            "_model_module_version": "1.5.0",
            "_view_count": null,
            "_view_module_version": "1.2.0",
            "_model_module": "@jupyter-widgets/controls"
          }
        },
        "563d52fe490a40ea8a17ce2edcbb7a7f": {
          "model_module": "@jupyter-widgets/base",
          "model_name": "LayoutModel",
          "state": {
            "_view_name": "LayoutView",
            "grid_template_rows": null,
            "right": null,
            "justify_content": null,
            "_view_module": "@jupyter-widgets/base",
            "overflow": null,
            "_model_module_version": "1.2.0",
            "_view_count": null,
            "flex_flow": null,
            "width": null,
            "min_width": null,
            "border": null,
            "align_items": null,
            "bottom": null,
            "_model_module": "@jupyter-widgets/base",
            "top": null,
            "grid_column": null,
            "overflow_y": null,
            "overflow_x": null,
            "grid_auto_flow": null,
            "grid_area": null,
            "grid_template_columns": null,
            "flex": null,
            "_model_name": "LayoutModel",
            "justify_items": null,
            "grid_row": null,
            "max_height": null,
            "align_content": null,
            "visibility": null,
            "align_self": null,
            "height": null,
            "min_height": null,
            "padding": null,
            "grid_auto_rows": null,
            "grid_gap": null,
            "max_width": null,
            "order": null,
            "_view_module_version": "1.2.0",
            "grid_template_areas": null,
            "object_position": null,
            "object_fit": null,
            "grid_auto_columns": null,
            "margin": null,
            "display": null,
            "left": null
          }
        }
      }
    }
  },
  "cells": [
    {
      "cell_type": "markdown",
      "metadata": {
        "id": "view-in-github",
        "colab_type": "text"
      },
      "source": [
        "<a href=\"https://colab.research.google.com/github/TheGupta2012/qctrl-qhack-Hostages-of-the-Entangled-Dungeons/blob/master/Robust_control_x_gate.ipynb\" target=\"_parent\"><img src=\"https://colab.research.google.com/assets/colab-badge.svg\" alt=\"Open In Colab\"/></a>"
      ]
    },
    {
      "cell_type": "markdown",
      "metadata": {
        "id": "sazInegRly5I"
      },
      "source": [
        "\n",
        "**Creating Robust Control for Single qubit gates**\n",
        "\n",
        "Here we introduce the essential concepts behind robust control. We create a model of noise on a quantum computer and simulate its performance. Then we show how to create controls that are robust to this noise process. We demonstrate the control's robustness with a simulation. "
      ]
    },
    {
      "cell_type": "markdown",
      "metadata": {
        "id": "Ldaza6_vly5T"
      },
      "source": [
        "## Imports and initialization"
      ]
    },
    {
      "cell_type": "code",
      "metadata": {
        "colab": {
          "base_uri": "https://localhost:8080/"
        },
        "id": "HiTMCsBJu9G9",
        "outputId": "31a751b0-c881-42c5-b537-8ceac5212f2f"
      },
      "source": [
        "!pip install qctrl-visualizer qctrl-open-controls"
      ],
      "execution_count": null,
      "outputs": [
        {
          "output_type": "stream",
          "text": [
            "Requirement already satisfied: qctrl-visualizer in /usr/local/lib/python3.7/dist-packages (2.4.2)\n",
            "Requirement already satisfied: qctrl-open-controls in /usr/local/lib/python3.7/dist-packages (7.0.1)\n",
            "Requirement already satisfied: numpy<2.0,>=1.16 in /usr/local/lib/python3.7/dist-packages (from qctrl-visualizer) (1.19.5)\n",
            "Requirement already satisfied: toml<0.11.0,>=0.10.0 in /usr/local/lib/python3.7/dist-packages (from qctrl-visualizer) (0.10.2)\n",
            "Requirement already satisfied: matplotlib>=2.1 in /usr/local/lib/python3.7/dist-packages (from qctrl-visualizer) (3.2.2)\n",
            "Requirement already satisfied: sphinx-rtd-theme<0.5.0,>=0.4.3 in /usr/local/lib/python3.7/dist-packages (from qctrl-visualizer) (0.4.3)\n",
            "Requirement already satisfied: scipy<2.0,>=1.3 in /usr/local/lib/python3.7/dist-packages (from qctrl-open-controls) (1.4.1)\n",
            "Requirement already satisfied: kiwisolver>=1.0.1 in /usr/local/lib/python3.7/dist-packages (from matplotlib>=2.1->qctrl-visualizer) (1.3.1)\n",
            "Requirement already satisfied: pyparsing!=2.0.4,!=2.1.2,!=2.1.6,>=2.0.1 in /usr/local/lib/python3.7/dist-packages (from matplotlib>=2.1->qctrl-visualizer) (2.4.7)\n",
            "Requirement already satisfied: cycler>=0.10 in /usr/local/lib/python3.7/dist-packages (from matplotlib>=2.1->qctrl-visualizer) (0.10.0)\n",
            "Requirement already satisfied: python-dateutil>=2.1 in /usr/local/lib/python3.7/dist-packages (from matplotlib>=2.1->qctrl-visualizer) (2.8.1)\n",
            "Requirement already satisfied: sphinx in /usr/local/lib/python3.7/dist-packages (from sphinx-rtd-theme<0.5.0,>=0.4.3->qctrl-visualizer) (1.8.5)\n",
            "Requirement already satisfied: six in /usr/local/lib/python3.7/dist-packages (from cycler>=0.10->matplotlib>=2.1->qctrl-visualizer) (1.15.0)\n",
            "Requirement already satisfied: babel!=2.0,>=1.3 in /usr/local/lib/python3.7/dist-packages (from sphinx->sphinx-rtd-theme<0.5.0,>=0.4.3->qctrl-visualizer) (2.9.0)\n",
            "Requirement already satisfied: setuptools in /usr/local/lib/python3.7/dist-packages (from sphinx->sphinx-rtd-theme<0.5.0,>=0.4.3->qctrl-visualizer) (54.2.0)\n",
            "Requirement already satisfied: snowballstemmer>=1.1 in /usr/local/lib/python3.7/dist-packages (from sphinx->sphinx-rtd-theme<0.5.0,>=0.4.3->qctrl-visualizer) (2.1.0)\n",
            "Requirement already satisfied: Pygments>=2.0 in /usr/local/lib/python3.7/dist-packages (from sphinx->sphinx-rtd-theme<0.5.0,>=0.4.3->qctrl-visualizer) (2.6.1)\n",
            "Requirement already satisfied: sphinxcontrib-websupport in /usr/local/lib/python3.7/dist-packages (from sphinx->sphinx-rtd-theme<0.5.0,>=0.4.3->qctrl-visualizer) (1.2.4)\n",
            "Requirement already satisfied: packaging in /usr/local/lib/python3.7/dist-packages (from sphinx->sphinx-rtd-theme<0.5.0,>=0.4.3->qctrl-visualizer) (20.9)\n",
            "Requirement already satisfied: docutils>=0.11 in /usr/local/lib/python3.7/dist-packages (from sphinx->sphinx-rtd-theme<0.5.0,>=0.4.3->qctrl-visualizer) (0.16)\n",
            "Requirement already satisfied: requests>=2.0.0 in /usr/local/lib/python3.7/dist-packages (from sphinx->sphinx-rtd-theme<0.5.0,>=0.4.3->qctrl-visualizer) (2.23.0)\n",
            "Requirement already satisfied: Jinja2>=2.3 in /usr/local/lib/python3.7/dist-packages (from sphinx->sphinx-rtd-theme<0.5.0,>=0.4.3->qctrl-visualizer) (2.11.3)\n",
            "Requirement already satisfied: alabaster<0.8,>=0.7 in /usr/local/lib/python3.7/dist-packages (from sphinx->sphinx-rtd-theme<0.5.0,>=0.4.3->qctrl-visualizer) (0.7.12)\n",
            "Requirement already satisfied: imagesize in /usr/local/lib/python3.7/dist-packages (from sphinx->sphinx-rtd-theme<0.5.0,>=0.4.3->qctrl-visualizer) (1.2.0)\n",
            "Requirement already satisfied: pytz>=2015.7 in /usr/local/lib/python3.7/dist-packages (from babel!=2.0,>=1.3->sphinx->sphinx-rtd-theme<0.5.0,>=0.4.3->qctrl-visualizer) (2020.5)\n",
            "Requirement already satisfied: sphinxcontrib-serializinghtml in /usr/local/lib/python3.7/dist-packages (from sphinxcontrib-websupport->sphinx->sphinx-rtd-theme<0.5.0,>=0.4.3->qctrl-visualizer) (1.1.4)\n",
            "Requirement already satisfied: idna<3,>=2.5 in /usr/local/lib/python3.7/dist-packages (from requests>=2.0.0->sphinx->sphinx-rtd-theme<0.5.0,>=0.4.3->qctrl-visualizer) (2.10)\n",
            "Requirement already satisfied: certifi>=2017.4.17 in /usr/local/lib/python3.7/dist-packages (from requests>=2.0.0->sphinx->sphinx-rtd-theme<0.5.0,>=0.4.3->qctrl-visualizer) (2020.12.5)\n",
            "Requirement already satisfied: urllib3!=1.25.0,!=1.25.1,<1.26,>=1.21.1 in /usr/local/lib/python3.7/dist-packages (from requests>=2.0.0->sphinx->sphinx-rtd-theme<0.5.0,>=0.4.3->qctrl-visualizer) (1.24.3)\n",
            "Requirement already satisfied: chardet<4,>=3.0.2 in /usr/local/lib/python3.7/dist-packages (from requests>=2.0.0->sphinx->sphinx-rtd-theme<0.5.0,>=0.4.3->qctrl-visualizer) (3.0.4)\n",
            "Requirement already satisfied: MarkupSafe>=0.23 in /usr/local/lib/python3.7/dist-packages (from Jinja2>=2.3->sphinx->sphinx-rtd-theme<0.5.0,>=0.4.3->qctrl-visualizer) (1.1.1)\n"
          ],
          "name": "stdout"
        }
      ]
    },
    {
      "cell_type": "code",
      "metadata": {
        "colab": {
          "base_uri": "https://localhost:8080/"
        },
        "id": "N37NAT3Funtp",
        "outputId": "89e0040b-ffa1-4fe0-8546-9ee3923894bc"
      },
      "source": [
        "!pip install qctrl \n"
      ],
      "execution_count": null,
      "outputs": [
        {
          "output_type": "stream",
          "text": [
            "Requirement already satisfied: qctrl in /usr/local/lib/python3.7/dist-packages (9.5.0)\n",
            "Requirement already satisfied: tenacity<7.0.0,>=6.0.0 in /usr/local/lib/python3.7/dist-packages (from qctrl) (6.3.1)\n",
            "Requirement already satisfied: gql==3.0.0a4 in /usr/local/lib/python3.7/dist-packages (from qctrl) (3.0.0a4)\n",
            "Requirement already satisfied: cached-property<2.0.0,>=1.5.1 in /usr/local/lib/python3.7/dist-packages (from qctrl) (1.5.2)\n",
            "Requirement already satisfied: python-forge<19.0.0,>=18.6.0 in /usr/local/lib/python3.7/dist-packages (from qctrl) (18.6.0)\n",
            "Requirement already satisfied: pytz<2021.0,>=2020.1 in /usr/local/lib/python3.7/dist-packages (from qctrl) (2020.5)\n",
            "Requirement already satisfied: jsonschema<4.0.0,>=3.2.0 in /usr/local/lib/python3.7/dist-packages (from qctrl) (3.2.0)\n",
            "Requirement already satisfied: tqdm>=4.30.0 in /usr/local/lib/python3.7/dist-packages (from qctrl) (4.41.1)\n",
            "Requirement already satisfied: python-dateutil<3.0.0,>=2.8.1 in /usr/local/lib/python3.7/dist-packages (from qctrl) (2.8.1)\n",
            "Requirement already satisfied: commonmark<0.10.0,>=0.9.1 in /usr/local/lib/python3.7/dist-packages (from qctrl) (0.9.1)\n",
            "Requirement already satisfied: requests<3.0.0,>=2.23.0 in /usr/local/lib/python3.7/dist-packages (from qctrl) (2.23.0)\n",
            "Requirement already satisfied: qctrl-commons<5.2.0,>=5.1.0 in /usr/local/lib/python3.7/dist-packages (from qctrl) (5.1.0)\n",
            "Requirement already satisfied: toml<0.11.0,>=0.10.0 in /usr/local/lib/python3.7/dist-packages (from qctrl) (0.10.2)\n",
            "Requirement already satisfied: click<8.0,>=7.0 in /usr/local/lib/python3.7/dist-packages (from qctrl) (7.1.2)\n",
            "Requirement already satisfied: numpy>=1.16.2 in /usr/local/lib/python3.7/dist-packages (from qctrl) (1.19.5)\n",
            "Requirement already satisfied: attrs<20.0.0,>=19.3.0 in /usr/local/lib/python3.7/dist-packages (from qctrl) (19.3.0)\n",
            "Requirement already satisfied: six>=1.9.0 in /usr/local/lib/python3.7/dist-packages (from tenacity<7.0.0,>=6.0.0->qctrl) (1.15.0)\n",
            "Requirement already satisfied: graphql-core<3.2,>=3.1 in /usr/local/lib/python3.7/dist-packages (from gql==3.0.0a4->qctrl) (3.1.4)\n",
            "Requirement already satisfied: yarl<1.6,>=1.4 in /usr/local/lib/python3.7/dist-packages (from gql==3.0.0a4->qctrl) (1.5.1)\n",
            "Requirement already satisfied: pyrsistent>=0.14.0 in /usr/local/lib/python3.7/dist-packages (from jsonschema<4.0.0,>=3.2.0->qctrl) (0.17.3)\n",
            "Requirement already satisfied: setuptools in /usr/local/lib/python3.7/dist-packages (from jsonschema<4.0.0,>=3.2.0->qctrl) (54.2.0)\n",
            "Requirement already satisfied: importlib-metadata; python_version < \"3.8\" in /usr/local/lib/python3.7/dist-packages (from jsonschema<4.0.0,>=3.2.0->qctrl) (3.8.1)\n",
            "Requirement already satisfied: certifi>=2017.4.17 in /usr/local/lib/python3.7/dist-packages (from requests<3.0.0,>=2.23.0->qctrl) (2020.12.5)\n",
            "Requirement already satisfied: idna<3,>=2.5 in /usr/local/lib/python3.7/dist-packages (from requests<3.0.0,>=2.23.0->qctrl) (2.10)\n",
            "Requirement already satisfied: urllib3!=1.25.0,!=1.25.1,<1.26,>=1.21.1 in /usr/local/lib/python3.7/dist-packages (from requests<3.0.0,>=2.23.0->qctrl) (1.24.3)\n",
            "Requirement already satisfied: chardet<4,>=3.0.2 in /usr/local/lib/python3.7/dist-packages (from requests<3.0.0,>=2.23.0->qctrl) (3.0.4)\n",
            "Requirement already satisfied: inflection<0.6.0,>=0.5.1 in /usr/local/lib/python3.7/dist-packages (from qctrl-commons<5.2.0,>=5.1.0->qctrl) (0.5.1)\n",
            "Requirement already satisfied: pythonflow<0.4.0,>=0.3.0 in /usr/local/lib/python3.7/dist-packages (from qctrl-commons<5.2.0,>=5.1.0->qctrl) (0.3.0)\n",
            "Requirement already satisfied: dataclasses<0.7,>=0.6 in /usr/local/lib/python3.7/dist-packages (from qctrl-commons<5.2.0,>=5.1.0->qctrl) (0.6)\n",
            "Requirement already satisfied: pyjwt<3.0.0,>=2.0.1 in /usr/local/lib/python3.7/dist-packages (from qctrl-commons<5.2.0,>=5.1.0->qctrl) (2.0.1)\n",
            "Requirement already satisfied: aiohttp<4.0.0,>=3.6.2 in /usr/local/lib/python3.7/dist-packages (from qctrl-commons<5.2.0,>=5.1.0->qctrl) (3.7.4.post0)\n",
            "Requirement already satisfied: scipy>=1.4.1 in /usr/local/lib/python3.7/dist-packages (from qctrl-commons<5.2.0,>=5.1.0->qctrl) (1.4.1)\n",
            "Requirement already satisfied: multidict>=4.0 in /usr/local/lib/python3.7/dist-packages (from yarl<1.6,>=1.4->gql==3.0.0a4->qctrl) (5.1.0)\n",
            "Requirement already satisfied: typing-extensions>=3.7.4; python_version < \"3.8\" in /usr/local/lib/python3.7/dist-packages (from yarl<1.6,>=1.4->gql==3.0.0a4->qctrl) (3.7.4.3)\n",
            "Requirement already satisfied: zipp>=0.5 in /usr/local/lib/python3.7/dist-packages (from importlib-metadata; python_version < \"3.8\"->jsonschema<4.0.0,>=3.2.0->qctrl) (3.4.1)\n",
            "Requirement already satisfied: async-timeout<4.0,>=3.0 in /usr/local/lib/python3.7/dist-packages (from aiohttp<4.0.0,>=3.6.2->qctrl-commons<5.2.0,>=5.1.0->qctrl) (3.0.1)\n"
          ],
          "name": "stdout"
        }
      ]
    },
    {
      "cell_type": "code",
      "metadata": {
        "id": "nofJYaytly5V"
      },
      "source": [
        "import matplotlib.pyplot as plt\n",
        "import numpy as np\n",
        "import qctrlvisualizer as qv\n",
        "from attr import asdict\n",
        "\n",
        "from qctrl import Qctrl\n",
        "\n",
        "# Starting a session with the API\n",
        "qctrl = Qctrl(email = 'harshit.co19@nsut.ac.in', password = 'HARSHITcontrol')"
      ],
      "execution_count": null,
      "outputs": []
    },
    {
      "cell_type": "code",
      "metadata": {
        "id": "MsnyYi-Jly5X"
      },
      "source": [
        "# Define standard matrices\n",
        "identity = np.array([[1.0, 0.0], [0.0, 1.0]], dtype=np.complex)\n",
        "sigma_x = np.array([[0.0, 1.0], [1.0, 0.0]], dtype=np.complex)\n",
        "sigma_y = np.array([[0.0, -1j], [1j, 0.0]], dtype=np.complex)\n",
        "sigma_z = np.array([[1.0, 0.0], [0.0, -1.0]], dtype=np.complex)\n",
        "sigma_m = np.array([[0.0, 1.0], [0.0, 0.0]], dtype=np.complex)\n",
        "sigmas = [sigma_x, sigma_y, sigma_z]\n",
        "sigma_names = [\"X\", \"Y\", \"Z\"]\n",
        "not_gate = np.array([[0.0, -1.0], [1.0, 0.0]])\n",
        "\n",
        "# Plotting and formatting methods\n",
        "plt.style.use(qv.get_qctrl_style())\n",
        "\n",
        "\n",
        "def plot_simulation_trajectories(figure, times, coherent_samples, noisy_trajectories):\n",
        "    ideal_bloch_sphere_coords = np.array(\n",
        "        [\n",
        "            [\n",
        "                np.real(\n",
        "                    np.dot(\n",
        "                        sample.state_vector.conj(),\n",
        "                        np.matmul(sigma, sample.state_vector),\n",
        "                    )\n",
        "                )\n",
        "                for sigma in sigmas\n",
        "            ]\n",
        "            for sample in coherent_samples\n",
        "        ]\n",
        "    )\n",
        "    noisy_bloch_sphere_coords = np.array(\n",
        "        [\n",
        "            [\n",
        "                [\n",
        "                    np.real(\n",
        "                        np.dot(\n",
        "                            sample.state_vector.conj(),\n",
        "                            np.matmul(sigma, sample.state_vector),\n",
        "                        )\n",
        "                    )\n",
        "                    for sigma in sigmas\n",
        "                ]\n",
        "                for sample in trajectory.samples\n",
        "            ]\n",
        "            for trajectory in noisy_trajectories\n",
        "        ]\n",
        "    )\n",
        "    figure.set_figheight(6.0)\n",
        "    figure.set_figwidth(7.0)\n",
        "    axes = figure.subplots(nrows=3, ncols=1, sharex=True, sharey=False, squeeze=False)[\n",
        "        :, 0\n",
        "    ]\n",
        "    for a in range(3):\n",
        "        axes[a].set_ylabel(sigma_names[a])\n",
        "        axes[a].set_ylim([-1.1, 1.1])\n",
        "        for t in range(noisy_bloch_sphere_coords.shape[0]):\n",
        "            axes[a].plot(\n",
        "                times * 1e6,\n",
        "                noisy_bloch_sphere_coords[t, :, a],\n",
        "                \"--\",\n",
        "                color=\"#680CE9\",\n",
        "                alpha=0.25,\n",
        "            )\n",
        "        axes[a].plot(times * 1e6, ideal_bloch_sphere_coords[:, a], \"-\", color=\"#680CE9\")\n",
        "    axes[2].set_xlabel(\"Time ($\\mu$s)\")\n",
        "    axes[0].set_title(\"Bloch sphere coordinates\")\n",
        "\n",
        "\n",
        "def plot_simulation_noise_directions(figure, times, coherent_samples):\n",
        "    figure.set_figheight(6.0)\n",
        "    figure.set_figwidth(7.0)\n",
        "    noise_operator_directions = np.array(\n",
        "        [\n",
        "            [\n",
        "                0.5\n",
        "                * np.real(\n",
        "                    np.trace(\n",
        "                        np.matmul(\n",
        "                            sigma,\n",
        "                            np.matmul(\n",
        "                                sample.evolution_operator.conj().T,\n",
        "                                np.matmul(sigma_z, sample.evolution_operator),\n",
        "                            ),\n",
        "                        )\n",
        "                    )\n",
        "                )\n",
        "                for sigma in sigmas\n",
        "            ]\n",
        "            for sample in coherent_samples\n",
        "        ]\n",
        "    )\n",
        "    axes = figure.subplots(nrows=3, ncols=1, sharex=True, sharey=False, squeeze=False)[\n",
        "        :, 0\n",
        "    ]\n",
        "    for a in range(3):\n",
        "        axes[a].set_ylabel(sigma_names[a])\n",
        "        axes[a].set_ylim([-1.1, 1.1])\n",
        "        axes[a].plot(\n",
        "            robust_point_times * 1e6,\n",
        "            noise_operator_directions[:, a],\n",
        "            \"-\",\n",
        "            color=\"#680CE9\",\n",
        "        )\n",
        "        axes[a].fill_between(\n",
        "            robust_point_times * 1e6,\n",
        "            0,\n",
        "            noise_operator_directions[:, a],\n",
        "            color=\"#680CE9\",\n",
        "            alpha=0.25,\n",
        "        )\n",
        "    axes[2].set_xlabel(\"Time ($\\mu$s)\")\n",
        "    axes[0].set_title(\"Bloch sphere directions\")\n",
        "\n",
        "\n",
        "def plot_noise_spectral_density(figure, nsd_samples):\n",
        "    frequencies = np.array([sample[\"frequency\"] for sample in nsd_samples])\n",
        "    powers = np.array([sample[\"power\"] for sample in nsd_samples])\n",
        "    axes = figure.subplots(nrows=1, ncols=1, sharex=True, sharey=False, squeeze=False)[\n",
        "        0, 0\n",
        "    ]\n",
        "    axes.plot(frequencies / 1e6, powers * 1e6)\n",
        "    axes.fill_between(frequencies / 1e6, 0, powers * 1e6, alpha=0.25)\n",
        "    axes.set_xlabel(\"Frequency (MHz)\")\n",
        "    axes.set_ylabel(\"Power density (1/MHz)\")\n",
        "    axes.set_title(\"Dephasing noise spectral density\")\n",
        "\n",
        "\n",
        "def pm_format(average, std):\n",
        "    return \"{:.4f}\".format(average) + \"+/-\" + \"{:.4f}\".format(std)\n",
        "\n",
        "    \n",
        "# The main signal which is sent to the qubit in the cloud\n",
        "\n",
        "def bandwidth_limited_pwc_signal(\n",
        "    name, duration, segment_count, max_rabi_rate, cutoff_frequency\n",
        "):\n",
        "\n",
        "    # create a raw pwc_signal where the amplitude of each segment is an optimization variables\n",
        "    raw_signal = qctrl.operations.pwc_signal(\n",
        "        values=qctrl.operations.bounded_optimization_variable(\n",
        "            count=segment_count, lower_bound=-max_rabi_rate, upper_bound=max_rabi_rate\n",
        "        ),\n",
        "        duration=duration,\n",
        "    )\n",
        "\n",
        "    # pass the signal through a bandwidth limited filter\n",
        "    filtered_signal = qctrl.operations.convolve_pwc(\n",
        "        raw_signal, qctrl.operations.sinc_integral_function(cutoff_frequency)\n",
        "    )\n",
        "\n",
        "    # resample the smooth filtered signal as a pwc_signal\n",
        "    final_signal = qctrl.operations.discretize_stf(\n",
        "        stf=filtered_signal,\n",
        "        duration=robust_duration,\n",
        "        segments_count=segment_count,\n",
        "        name=name,\n",
        "    )\n",
        "\n",
        "    return final_signal"
      ],
      "execution_count": null,
      "outputs": []
    },
    {
      "cell_type": "markdown",
      "metadata": {
        "id": "HUcTkNRvly5d"
      },
      "source": [
        "## Single qubit with dephasing noise\n",
        "\n",
        "To better understand how noise affects a quantum computer we are going to create a simulation.\n",
        "\n",
        "To start we write down a Hamiltonian, which will mathematically describe this physical system:\n",
        "\n",
        "\\begin{align*}\n",
        "H_{\\rm total}(t) = & H_{\\rm control}(t) + H_{\\rm noise}(t).\n",
        "\\end{align*}"
      ]
    },
    {
      "cell_type": "markdown",
      "metadata": {
        "id": "ClBNKIjcly5g"
      },
      "source": [
        "### Control: Standard microwave pulse that creates a NOT Gate\n",
        "\n",
        "The control part of the Hamiltonian is:\n",
        "\n",
        "\\begin{align}\n",
        "H_{\\rm control}(t) = \\Omega_{\\rm I}(t) \\sigma_{x}/2 + \\Omega_{\\rm Q}(t) \\sigma_{y}/2.\n",
        "\\end{align}\n",
        "\n",
        "Where $\\Omega_I(t)$ and $\\Omega_Q(t)$ are the time-dependent Rabi rate created by the IQ modulated microwave pulse applied to control the qubits state, which couples to the qubit state through the $\\sigma_k$ operators.\n",
        "\n",
        "We are trying to apply a NOT gate to the qubit. The simplest way to do this is to apply a Q modulated microwave pulse at the maximum Rabi rate $\\Omega_{\\rm Q}(t) = \\Omega_{\\rm max}$ for a duration of $\\pi/\\Omega_{\\rm max}$, while the I modulated microwave pulse is set to zero $\\Omega_{\\rm I}(t) = 0$. We will call this the standard NOT gate. "
      ]
    },
    {
      "cell_type": "code",
      "metadata": {
        "id": "p8C7v5Ezly5h",
        "colab": {
          "base_uri": "https://localhost:8080/",
          "height": 171
        },
        "outputId": "309678cc-7403-483d-9e62-0af8af2c99b8"
      },
      "source": [
        "omega_max = 2 * np.pi * 1e6  # Hz\n",
        "standard_duration = np.pi / omega_max  # s\n",
        "\n",
        "standard_pulse_segments = [\n",
        "    qctrl.types.ComplexSegmentInput(duration=standard_duration, value=omega_max),\n",
        "]\n",
        "\n",
        "plot_segments = {\n",
        "    \"$\\Omega_Q$\": [\n",
        "        {\"duration\": segment.duration, \"value\": segment.value}\n",
        "        for segment in standard_pulse_segments\n",
        "    ]\n",
        "}\n",
        "\n",
        "qv.plot_controls(plt.figure(), plot_segments)\n",
        "plt.show()"
      ],
      "execution_count": null,
      "outputs": [
        {
          "output_type": "display_data",
          "data": {
            "image/png": "[encoded data removed]",
            "text/plain": [
              "<Figure size 504x144 with 1 Axes>"
            ]
          },
          "metadata": {
            "tags": [],
            "needs_background": "light"
          }
        }
      ]
    },
    {
      "cell_type": "markdown",
      "metadata": {
        "id": "cXyVD0f0ly5i"
      },
      "source": [
        "### Noise: Magnetic field with a 1/f spectrum\n",
        "\n",
        "The noise part of the Hamiltonian is:\n",
        "\\begin{align}\n",
        "H_{\\rm noise}(t) = \\eta(t) \\sigma_z / 2.\n",
        "\\end{align}\n",
        "\n",
        "We treat the noisy magnetic field environment as a classical noise process $\\eta(t)$ coupled to the quantum system with a noise operator $\\sigma_z$. This approximate model is often reasonable for real quantum computing hardware when the decoherence time (T2) is the limiting factor, being much shorter than the relaxation time (T1) of the qubits. \n",
        "\n",
        "The noise process $\\eta(t)$ is sampled from a noise spectral density that follows a power law: \n",
        "\\begin{align}\n",
        "S_{\\eta}(\\omega) = \\frac{\\omega_{\\rm cutoff}^{a-1}}{\\omega^a + \\omega_{\\rm cutoff}^a},\n",
        "\\end{align}\n",
        "Where $\\omega_{\\rm cutoff}$ is the cutoff frequency and $a$ is the order of the power law. It is common for  magnetic field environments to follow 1/f power law ($a=1$) where low frequency noise dominates. \n",
        "\n",
        "\n",
        "Different physical processes will couple to the quantum computer through different noise operators. The key to getting a good simulation is to identify the noises that most significantly affect our qubits. \n"
      ]
    },
    {
      "cell_type": "code",
      "metadata": {
        "id": "BiM_x_eely5j",
        "colab": {
          "base_uri": "https://localhost:8080/",
          "height": 295
        },
        "outputId": "7cbeee42-0d0a-4dd7-83bb-08e73d37a08d"
      },
      "source": [
        "def power_spectrum(frequencies, frequency_cutoff, power):\n",
        "    return frequency_cutoff ** (power - 1) / (\n",
        "        frequencies ** power + frequency_cutoff ** power\n",
        "    )\n",
        "\n",
        "\n",
        "frequencies = np.linspace(0, 2.0e4, 1000)\n",
        "power_densities = 4e10 * power_spectrum(frequencies, 1.0e2, 1.0)\n",
        "nsd_sampled_points = [\n",
        "    {\"frequency\": f, \"power\": p, \"power_uncertainty\": 0.0, \"weight\": 0.0}\n",
        "    for f, p in zip(frequencies, power_densities)\n",
        "]\n",
        "\n",
        "plot_noise_spectral_density(plt.figure(), nsd_sampled_points)"
      ],
      "execution_count": null,
      "outputs": [
        {
          "output_type": "display_data",
          "data": {
            "image/png": "[encoded data removed]",
            "text/plain": [
              "<Figure size 432x288 with 1 Axes>"
            ]
          },
          "metadata": {
            "tags": [],
            "needs_background": "light"
          }
        }
      ]
    },
    {
      "cell_type": "markdown",
      "metadata": {
        "id": "i2uaggBEly5k"
      },
      "source": [
        "## Simulation of standard NOT Gate\n",
        "\n",
        "Now that we have a Hamiltonian we can create a simulation. The control we have is a `shift` with $\\sigma_x$ as the `operator` and $\\Omega(t)$ is the `pulse`. The noise we have is an `additive noise` with $\\sigma_z$ as the `operator` and  $S_\\eta(\\omega)$ is the `linear_piecewise_noise_spectral_density`.\n"
      ]
    },
    {
      "cell_type": "code",
      "metadata": {
        "id": "frxiX5Zjly5l"
      },
      "source": [
        "standard_control = qctrl.types.colored_noise_simulation.Shift(\n",
        "    control=standard_pulse_segments, operator=sigma_y / 2\n",
        ")\n",
        "\n",
        "noise_drift = qctrl.types.colored_noise_simulation.Drift(\n",
        "    operator=sigma_z / 2.0,\n",
        "    noise=qctrl.types.colored_noise_simulation.Noise(\n",
        "        power_densities=power_densities,\n",
        "        frequency_step=frequencies[1],\n",
        "        time_domain_sample_count=1000,\n",
        "    ),\n",
        ")\n",
        "\n",
        "target = qctrl.types.TargetInput(operator=not_gate)"
      ],
      "execution_count": null,
      "outputs": []
    },
    {
      "cell_type": "markdown",
      "metadata": {
        "id": "BySzlsf4ly5m"
      },
      "source": [
        "Now we can create a simulation of the qubit in a noisy environment.\n",
        "\n",
        "*See also:* The [simulation user guide](https://docs.q-ctrl.com/boulder-opal/user-guides/simulation) explains how to create multiple types of simulations."
      ]
    },
    {
      "cell_type": "code",
      "metadata": {
        "id": "Hfsu4Z19ly5n",
        "colab": {
          "base_uri": "https://localhost:8080/",
          "height": 50,
          "referenced_widgets": [
            "a5223dd97cfc4ec6bdce2a493690b331",
            "09de3f31b8b54ea8871cdb138770cd90",
            "3f42256d1f0343319f9969e02083448e",
            "435f2384066744f4bec7da610aff4f2d",
            "4fd6600bbe784a36ab18081efc6fa5a2",
            "7cd27664dfea4fda9e55fa7778bad85a",
            "5e5604bc70a14b728fdae24055a23b87",
            "f5694e70e98b460bbc7ff537ef4dde3f"
          ]
        },
        "outputId": "5ed25a09-fc72-4c57-c162-5b28d76b189e"
      },
      "source": [
        "standard_point_times = np.linspace(0, standard_duration, 100)\n",
        "\n",
        "standard_noisy_simulation_result = qctrl.functions.calculate_colored_noise_simulation(\n",
        "    duration=standard_duration,\n",
        "    sample_times=standard_point_times,\n",
        "    shifts=[standard_control],\n",
        "    drifts=[noise_drift],\n",
        "    trajectory_count=5,\n",
        "    initial_state_vector=np.array([1.0, 0.0]),\n",
        "    target=target,\n",
        ")"
      ],
      "execution_count": null,
      "outputs": [
        {
          "output_type": "display_data",
          "data": {
            "application/vnd.jupyter.widget-view+json": {
              "model_id": "a5223dd97cfc4ec6bdce2a493690b331",
              "version_minor": 0,
              "version_major": 2
            },
            "text/plain": [
              "HBox(children=(FloatProgress(value=0.0), HTML(value='')))"
            ]
          },
          "metadata": {
            "tags": []
          }
        },
        {
          "output_type": "stream",
          "text": [
            "Your task calculate_colored_noise_simulation has started.\n",
            "Your task calculate_colored_noise_simulation has completed in 9s.\n"
          ],
          "name": "stdout"
        }
      ]
    },
    {
      "cell_type": "markdown",
      "metadata": {
        "id": "IvuDgqHPly5o"
      },
      "source": [
        "For comparison we can also create a simulation of a system with no noise"
      ]
    },
    {
      "cell_type": "code",
      "metadata": {
        "id": "RWLsW3zAly5o",
        "colab": {
          "base_uri": "https://localhost:8080/",
          "height": 34,
          "referenced_widgets": [
            "f475dbe819994242b03b9cd615358585",
            "59669a02bbee4fabbc5cf4b85f439797",
            "5fa71bb8655843e6a0be478cc781f001",
            "8cac75b6da594926809a138a399bfd1a",
            "d3f8b5b5039948438b98d7a74247af7b",
            "5c6330a8f85f4d6696dfc05bd98a533b",
            "78d9f99eb00e4de4b7060bb9e75dc533",
            "7dae39412ba245b59f796f696ea610cf"
          ]
        },
        "outputId": "c3b1f9bb-eeb8-4669-f31e-f579e0494bb1"
      },
      "source": [
        "standard_ideal_simulation_result = qctrl.functions.calculate_coherent_simulation(\n",
        "    duration=standard_duration,\n",
        "    sample_times=standard_point_times,\n",
        "    shifts=[standard_control],\n",
        "    initial_state_vector=np.array([1.0, 0.0]),\n",
        "    target=target,\n",
        ")"
      ],
      "execution_count": null,
      "outputs": [
        {
          "output_type": "display_data",
          "data": {
            "application/vnd.jupyter.widget-view+json": {
              "model_id": "f475dbe819994242b03b9cd615358585",
              "version_minor": 0,
              "version_major": 2
            },
            "text/plain": [
              "HBox(children=(FloatProgress(value=0.0), HTML(value='')))"
            ]
          },
          "metadata": {
            "tags": []
          }
        },
        {
          "output_type": "stream",
          "text": [
            "\rYour task calculate_coherent_simulation has completed in 3s.\n",
            "\r"
          ],
          "name": "stdout"
        }
      ]
    },
    {
      "cell_type": "markdown",
      "metadata": {
        "id": "2ZtZJ9T-ly5o"
      },
      "source": [
        "### Noisy trajectories of the qubit state\n",
        "\n",
        "We can display the noisy trajectories of the qubit using the coordinates of the [Bloch sphere](https://en.wikipedia.org/wiki/Bloch_sphere) as a representation of the state. We can see that the noisy trajectories, shown with dotted lines, take us away from the ideal simulation path, shown with the solid line. Most importantly, the final state of noisy trajectories diverges from the ideal final state. This indicates that the noise will introduce errors into our calculation and affect the outcomes of an algorithm that we want to run."
      ]
    },
    {
      "cell_type": "code",
      "metadata": {
        "id": "bcJX65S6ly5p",
        "colab": {
          "base_uri": "https://localhost:8080/",
          "height": 408
        },
        "outputId": "0586eae0-0ecf-4403-92d4-3624798d27b0"
      },
      "source": [
        "plot_simulation_trajectories(\n",
        "    plt.figure(),\n",
        "    standard_point_times,\n",
        "    standard_ideal_simulation_result.samples,\n",
        "    standard_noisy_simulation_result.trajectories,\n",
        ")\n",
        "plt.show()"
      ],
      "execution_count": null,
      "outputs": [
        {
          "output_type": "display_data",
          "data": {
            "image/png": "[encoded data removed]",
            "text/plain": [
              "<Figure size 504x432 with 3 Axes>"
            ]
          },
          "metadata": {
            "tags": [],
            "needs_background": "light"
          }
        }
      ]
    },
    {
      "cell_type": "markdown",
      "metadata": {
        "id": "hpCWO2f5ly5p"
      },
      "source": [
        "### Average gate infidelity of standard NOT gate\n",
        "\n",
        "The results above are specific to a particular initial state. We can quantify the *average* performance of the gate under noise by looking at the average gate infidelity, defined as:\n",
        "\n",
        "\\begin{align}\n",
        "\\mathcal{I}_{\\rm gate} = 1 - \\mathbb{E}[ \\rm{Tr}[ U_{\\rm target}^\\dagger(T) U_{\\rm total}(T) ] ],\n",
        "\\end{align}\n",
        "\n",
        "where $U_{k}(T)$ is the solution to $\\dot{U}_{k}(t) = -i H_{k} U_{k}(t)$, $U_{\\rm target}$ is the target unitary, in this case a NOT gate, and $\\mathbb{E}[ \\cdot ]$ is the classical stochastic average. An estimate of this number is automatically calculated when you provide a target to a stochastic simulation in BOULDER OPAL."
      ]
    },
    {
      "cell_type": "code",
      "metadata": {
        "id": "J0QawgEjly5q",
        "colab": {
          "base_uri": "https://localhost:8080/"
        },
        "outputId": "d41ba5f9-9c60-479e-c8ef-6dc41f36396e"
      },
      "source": [
        "standard_final_sample = standard_noisy_simulation_result.average_samples[-1]\n",
        "print(\"Average gate infidelity:\")\n",
        "print(\n",
        "    pm_format(\n",
        "        standard_final_sample.average_infidelity,\n",
        "        standard_final_sample.average_infidelity_uncertainty,\n",
        "    )\n",
        ")\n",
        "print(standard_noisy_simulation_result.average_samples[-1])"
      ],
      "execution_count": null,
      "outputs": [
        {
          "output_type": "stream",
          "text": [
            "Average gate infidelity:\n",
            "0.0030+/-0.0013\n",
            "AverageSample(time=5e-07, average_infidelity=0.0029601828152379995, average_infidelity_uncertainty=0.001325232679883104, average_density_matrix=array([[ 0.00296006+0.j        , -0.0023269 -0.03110548j],\n",
            "       [-0.0023269 +0.03110548j,  0.99703994+0.j        ]]))\n"
          ],
          "name": "stdout"
        }
      ]
    },
    {
      "cell_type": "markdown",
      "metadata": {
        "id": "nWDRDk1Nly5t"
      },
      "source": [
        "## Robust control design\n",
        "\n",
        "The filter function framework can be used to design robust controls. We treat the design problem as a multi-objective optimization problem. First we assume the control field is parametrized by a set of variables $\\Omega_{\\rm candidate}(\\underline{v},t)$. \n",
        "\n",
        "The first target of our optimization is to ensure that our optimized pulse performs the correct operation. To do this we need to minimize the infidelity of the control:\n",
        "\\begin{align}\n",
        "\\mathcal{I}_{\\rm control} = \\rm{Tr}[U_{\\rm control}^\\dagger(T) U_{\\rm target}(T)],\n",
        "\\end{align}\n",
        "This quantifies how close the control is to the target operation if there is no noise.\n",
        "\n",
        "The second target of our optimization is to ensure that our optimized pulse is robust to the noise. It is common for physically relevant noise processes to be dominated by low frequency noise, in this case it simplifies the numerical calculation to minimize just the zero frequency part of the filter function. We call this the infidelity of the noise:\n",
        "\\begin{align}\n",
        "\\mathcal{I}_{\\rm noise} = w^2 \\left|\\left| \\int dt H_{\\rm noise}^{\\rm (control)}(t) \\right|\\right|_2^2,\n",
        "\\end{align}\n",
        "where $w$ is a relative weight of the filter cost compared to the operation, a good value for additive noises is $w=1/T$.\n",
        "\n",
        "The multi-objective optimization problem can be represented as minimizing the cost\n",
        "\\begin{align}\n",
        "\\mathcal{I}_{\\rm robust}(\\underline{v}) = \\mathcal{I}_{\\rm control}(\\underline{v}) + \\mathcal{I}_{\\rm noise}(\\underline{v}).\n",
        "\\end{align}\n",
        "\n",
        "\n",
        "If we can find a control where $\\mathcal{I}_{\\rm robust}(\\underline{v})$ is very close to zero, we can be sure that it will both complete the correct operation and be robust to low frequency noise."
      ]
    },
    {
      "cell_type": "markdown",
      "metadata": {
        "id": "pqfhLHBAly5t"
      },
      "source": [
        "### Optimizing a robust NOT gate\n",
        "\n",
        "We can create a robust NOT gate using the BOULDER OPAL optimizer. The [optimization feature](https://docs.q-ctrl.com/boulder-opal/user-guides/optimization) allows the user to define an optimization with arbitrary pulse constraints. \n",
        "\n",
        "We are going to construct two control pulses $\\Omega_I(\\underline{v},t)$ and $\\Omega_Q(\\underline{v},t)$ which have a maximum Rabi rate $\\Omega_{\\rm max}$ and a bandwidth limit defined by a cutoff frequency $\\Omega_{\\rm cutoff}$. \n",
        "\n",
        "The optimizer requires that you define the quantum system as a `graph` that represents how a set of `optimization_variables` an `infidelity` you want to minimize. A series of convenience methods makes \n",
        "creating this `graph` straightforward once you have mathematically written down the total Hamiltonian ($H_{\\rm total}$). Below we show how to create a `graph` for optimizing a qubit with dephasing noise. On each line, we write down what the current variable represents in the mathematical equation of the total Hamiltonian.\n",
        "\n",
        "We restate the entire Hamiltonian below so we can easily refer to it:\n",
        "\\begin{align}\n",
        "H_{\\rm total}(t) = & H_{\\rm control}(t) + H_{\\rm noise}(t), \\\\\n",
        "H_{\\rm control}(t) = & \\Omega_{\\rm I}(t) \\sigma_{x}/2 + \\Omega_{\\rm Q}(t) \\sigma_{y}/2, \\\\\n",
        "H_{\\rm noise}(t) = & \\eta(t) \\sigma_z / 2.\n",
        "\\end{align}"
      ]
    },
    {
      "cell_type": "code",
      "metadata": {
        "id": "cm9_YI18ly5t"
      },
      "source": [
        "robust_duration = 3.0 * standard_duration\n",
        "omega_cutoff = 1e7\n",
        "segment_count = 100\n",
        "\n",
        "with qctrl.create_graph() as graph:\n",
        "\n",
        "    # Omega_I(v,t)\n",
        "    pulse_i = bandwidth_limited_pwc_signal(\n",
        "        name=\"I\",\n",
        "        duration=robust_duration,\n",
        "        segment_count=segment_count,\n",
        "        max_rabi_rate=omega_max,\n",
        "        cutoff_frequency=omega_cutoff,\n",
        "    )\n",
        "\n",
        "    # Omega_Q(v,t)\n",
        "    pulse_q = bandwidth_limited_pwc_signal(\n",
        "        name=\"Q\",\n",
        "        duration=robust_duration,\n",
        "        segment_count=segment_count,\n",
        "        max_rabi_rate=omega_max,\n",
        "        cutoff_frequency=omega_cutoff,\n",
        "    )\n",
        "\n",
        "    # Omega_I(t) sigma_x/2\n",
        "    robust_control_i = qctrl.operations.pwc_operator(\n",
        "        signal=pulse_i, operator=sigma_x / 2.0\n",
        "    )\n",
        "\n",
        "    # Omega_Q(t) sigma_y/2\n",
        "    robust_control_q = qctrl.operations.pwc_operator(\n",
        "        signal=pulse_q, operator=sigma_y / 2.0\n",
        "    )\n",
        "\n",
        "    # H_control = Omega_I(t) sigma_x/2 + Omega_Q(t) sigma_y/2\n",
        "    control_hamiltonian = qctrl.operations.pwc_sum([robust_control_i, robust_control_q])\n",
        "\n",
        "    # sigma_z / 2w\n",
        "    noise_operator = qctrl.operations.constant_pwc_operator(\n",
        "        robust_duration, sigma_z / 2.0 / robust_duration\n",
        "    )\n",
        "\n",
        "    # create U_target\n",
        "    target_unitary = qctrl.operations.target(operator=not_gate)\n",
        "\n",
        "    # create I_robust(v) = I_control(v) + I_noise(v)\n",
        "    infidelity = qctrl.operations.infidelity_pwc(\n",
        "        hamiltonian=control_hamiltonian,\n",
        "        noise_operators=[\n",
        "            noise_operator,\n",
        "        ],\n",
        "        target_operator=target_unitary,\n",
        "        name=\"infidelity\",\n",
        "    )"
      ],
      "execution_count": null,
      "outputs": []
    },
    {
      "cell_type": "markdown",
      "metadata": {
        "id": "Wd-fnCXYly5u"
      },
      "source": [
        "When you run an optimization, a series of searches are performed and the pulse with the smallest cost is returned. The optimization is stochastic and therefore a different result will be returned each time, but they will always satisfy the constraints. \n",
        "\n",
        "A pulse that is both robust and completes the correct operation will have a cost which is very close to zero. If the cost returned does not satisfy this condition, you may need to reduce your constraints. Increasing the total duration and/or the number of segments will often help."
      ]
    },
    {
      "cell_type": "code",
      "metadata": {
        "id": "QU_egfK2ly5u",
        "colab": {
          "base_uri": "https://localhost:8080/",
          "height": 50,
          "referenced_widgets": [
            "f90af218e2964e9d8a6621f3fe6cc7e3",
            "f59c41c75306428ca41979e115f4fad5",
            "aba75b30a1954f6098087cdb7ba205f3",
            "3d69ad2147884c3cae539d91b91a6da8",
            "f9d81d03368345948e6d56354a1d5e20",
            "840888b5a309420db98b687916faa3f0",
            "71fd0573db93431d81accb02cca329bc",
            "863dcd0926f146f58359cf6461aa56d9"
          ]
        },
        "outputId": "585a453f-ae44-4b85-bb6d-171bb0eba98b"
      },
      "source": [
        "optimization_result = qctrl.functions.calculate_optimization(\n",
        "    cost_node_name=\"infidelity\",\n",
        "    output_node_names=[\"infidelity\", \"I\", \"Q\"],\n",
        "    graph=graph,\n",
        ")"
      ],
      "execution_count": null,
      "outputs": [
        {
          "output_type": "display_data",
          "data": {
            "application/vnd.jupyter.widget-view+json": {
              "model_id": "f90af218e2964e9d8a6621f3fe6cc7e3",
              "version_minor": 0,
              "version_major": 2
            },
            "text/plain": [
              "HBox(children=(FloatProgress(value=0.0), HTML(value='')))"
            ]
          },
          "metadata": {
            "tags": []
          }
        },
        {
          "output_type": "stream",
          "text": [
            "Your task calculate_optimization has started.\n",
            "Your task calculate_optimization has completed in 8s.\n"
          ],
          "name": "stdout"
        }
      ]
    },
    {
      "cell_type": "code",
      "metadata": {
        "colab": {
          "base_uri": "https://localhost:8080/"
        },
        "id": "q5uEhOqez7wF",
        "outputId": "5f559f7d-46c8-43b4-a107-60386080e23b"
      },
      "source": [
        "optimization_result"
      ],
      "execution_count": null,
      "outputs": [
        {
          "output_type": "execute_result",
          "data": {
            "text/plain": [
              "Result(cost=1.4300662564383862e-09, output={'I': [{'value': 242653.6137201316, 'duration': 1.5000000000000002e-08}, {'value': 188354.91479048404, 'duration': 1.5000000000000002e-08}, {'value': 122887.06698561733, 'duration': 1.5000000000000002e-08}, {'value': 46448.87315650932, 'duration': 1.5000000000000002e-08}, {'value': -40582.74864624049, 'duration': 1.5000000000000002e-08}, {'value': -137654.43142013473, 'duration': 1.5000000000000002e-08}, {'value': -244041.19504581013, 'duration': 1.5000000000000002e-08}, {'value': -358854.4216487444, 'duration': 1.5000000000000002e-08}, {'value': -481052.8814210633, 'duration': 1.5000000000000002e-08}, {'value': -609456.6616958072, 'duration': 1.5000000000000002e-08}, {'value': -742763.7959121672, 'duration': 1.5000000000000002e-08}, {'value': -879569.3360421287, 'duration': 1.5000000000000002e-08}, {'value': -1018386.5631151496, 'duration': 1.5000000000000002e-08}, {'value': -1157669.9866593378, 'duration': 1.5000000000000002e-08}, {'value': -1295839.746066121, 'duration': 1.5000000000000002e-08}, {'value': -1431306.9958666805, 'duration': 1.5000000000000002e-08}, {'value': -1562499.8333441014, 'duration': 1.5000000000000002e-08}, {'value': -1687889.3113204348, 'duration': 1.5000000000000002e-08}, {'value': -1806015.0717310759, 'duration': 1.5000000000000002e-08}, {'value': -1915510.1369483862, 'duration': 1.5000000000000002e-08}, {'value': -2015124.4058025563, 'duration': 1.5000000000000002e-08}, {'value': -2103746.419762333, 'duration': 1.5000000000000002e-08}, {'value': -2180422.991511635, 'duration': 1.5000000000000002e-08}, {'value': -2244376.322759823, 'duration': 1.5000000000000002e-08}, {'value': -2295018.2799703367, 'duration': 1.5000000000000002e-08}, {'value': -2331961.5450592577, 'duration': 1.5000000000000002e-08}, {'value': -2355027.412146314, 'duration': 1.5000000000000002e-08}, {'value': -2364250.060167471, 'duration': 1.5000000000000002e-08}, {'value': -2359877.193514525, 'duration': 1.5000000000000002e-08}, {'value': -2342367.007712151, 'duration': 1.5000000000000002e-08}, {'value': -2312381.503280173, 'duration': 1.5000000000000002e-08}, {'value': -2270776.2371298685, 'duration': 1.5000000000000002e-08}, {'value': -2218586.6658713743, 'duration': 1.5000000000000002e-08}, {'value': -2157011.2980420324, 'duration': 1.5000000000000002e-08}, {'value': -2087391.93131962, 'duration': 1.5000000000000002e-08}, {'value': -2011191.3051368457, 'duration': 1.5000000000000002e-08}, {'value': -1929968.547725699, 'duration': 1.5000000000000002e-08}, {'value': -1845352.8385553835, 'duration': 1.5000000000000002e-08}, {'value': -1759015.741571794, 'duration': 1.5000000000000002e-08}, {'value': -1672642.6909230615, 'duration': 1.5000000000000002e-08}, {'value': -1587904.1284390346, 'duration': 1.5000000000000002e-08}, {'value': -1506426.800659061, 'duration': 1.5000000000000002e-08}, {'value': -1429765.722477736, 'duration': 1.5000000000000002e-08}, {'value': -1359377.3044818295, 'duration': 1.5000000000000002e-08}, {'value': -1296594.1219364186, 'duration': 1.5000000000000002e-08}, {'value': -1242601.775470955, 'duration': 1.5000000000000002e-08}, {'value': -1198418.2573081001, 'duration': 1.5000000000000002e-08}, {'value': -1164876.1930191033, 'duration': 1.5000000000000002e-08}, {'value': -1142608.2780747125, 'duration': 1.5000000000000002e-08}, {'value': -1132036.1718143788, 'duration': 1.5000000000000002e-08}, {'value': -1133363.0499184623, 'duration': 1.5000000000000002e-08}, {'value': -1146569.9511691283, 'duration': 1.5000000000000002e-08}, {'value': -1171415.9864309656, 'duration': 1.5000000000000002e-08}, {'value': -1207442.4086245843, 'duration': 1.5000000000000002e-08}, {'value': -1253980.47328544, 'duration': 1.5000000000000002e-08}, {'value': -1310162.9513756693, 'duration': 1.5000000000000002e-08}, {'value': -1374939.090606692, 'duration': 1.5000000000000002e-08}, {'value': -1447092.759844331, 'duration': 1.5000000000000002e-08}, {'value': -1525263.4543473772, 'duration': 1.5000000000000002e-08}, {'value': -1607969.7886828212, 'duration': 1.5000000000000002e-08}, {'value': -1693635.0601042234, 'duration': 1.5000000000000002e-08}, {'value': -1780614.428781331, 'duration': 1.5000000000000002e-08}, {'value': -1867223.2331924734, 'duration': 1.5000000000000002e-08}, {'value': -1951765.9397433018, 'duration': 1.5000000000000002e-08}, {'value': -2032565.2155953422, 'duration': 1.5000000000000002e-08}, {'value': -2107990.6129433056, 'duration': 1.5000000000000002e-08}, {'value': -2176486.3615629906, 'duration': 1.5000000000000002e-08}, {'value': -2236597.7841780577, 'duration': 1.5000000000000002e-08}, {'value': -2286995.875709965, 'duration': 1.5000000000000002e-08}, {'value': -2326499.6222618176, 'duration': 1.5000000000000002e-08}, {'value': -2354095.6780715925, 'duration': 1.5000000000000002e-08}, {'value': -2368955.0678397706, 'duration': 1.5000000000000002e-08}, {'value': -2370446.636853249, 'duration': 1.5000000000000002e-08}, {'value': -2358147.031146573, 'duration': 1.5000000000000002e-08}, {'value': -2331847.053433097, 'duration': 1.5000000000000002e-08}, {'value': -2291554.3065066496, 'duration': 1.5000000000000002e-08}, {'value': -2237492.103022637, 'duration': 1.5000000000000002e-08}, {'value': -2170094.687761476, 'duration': 1.5000000000000002e-08}, {'value': -2089998.8844089578, 'duration': 1.5000000000000002e-08}, {'value': -1998032.3423392738, 'duration': 1.5000000000000002e-08}, {'value': -1895198.618691906, 'duration': 1.5000000000000002e-08}, {'value': -1782659.386103752, 'duration': 1.5000000000000002e-08}, {'value': -1661714.105797721, 'duration': 1.5000000000000002e-08}, {'value': -1533777.5484586405, 'duration': 1.5000000000000002e-08}, {'value': -1400355.5806960845, 'duration': 1.5000000000000002e-08}, {'value': -1263019.6622953855, 'duration': 1.5000000000000002e-08}, {'value': -1123380.518440808, 'duration': 1.5000000000000002e-08}, {'value': -983061.461369223, 'duration': 1.5000000000000002e-08}, {'value': -843671.8373555783, 'duration': 1.5000000000000002e-08}, {'value': -706781.0675898589, 'duration': 1.5000000000000002e-08}, {'value': -573893.7355887608, 'duration': 1.5000000000000002e-08}, {'value': -446426.14966923103, 'duration': 1.5000000000000002e-08}, {'value': -325684.777218912, 'duration': 1.5000000000000002e-08}, {'value': -212846.90869872543, 'duration': 1.5000000000000002e-08}, {'value': -108943.86430000275, 'duration': 1.5000000000000002e-08}, {'value': -14847.005858800228, 'duration': 1.5000000000000002e-08}, {'value': 68743.23799614195, 'duration': 1.5000000000000002e-08}, {'value': 141305.18334649905, 'duration': 1.5000000000000002e-08}, {'value': 202500.4489923372, 'duration': 1.5000000000000002e-08}, {'value': 252175.23174353098, 'duration': 1.5000000000000002e-08}], 'Q': [{'value': 3228153.996921337, 'duration': 1.5000000000000002e-08}, {'value': 3331626.1738166204, 'duration': 1.5000000000000002e-08}, {'value': 3400993.995268936, 'duration': 1.5000000000000002e-08}, {'value': 3434378.57314747, 'duration': 1.5000000000000002e-08}, {'value': 3430377.9517383296, 'duration': 1.5000000000000002e-08}, {'value': 3388090.1555592334, 'duration': 1.5000000000000002e-08}, {'value': 3307127.77314859, 'duration': 1.5000000000000002e-08}, {'value': 3187623.8151343106, 'duration': 1.5000000000000002e-08}, {'value': 3030228.7474707053, 'duration': 1.5000000000000002e-08}, {'value': 2836098.7654624777, 'duration': 1.5000000000000002e-08}, {'value': 2606875.537870365, 'duration': 1.5000000000000002e-08}, {'value': 2344657.809824857, 'duration': 1.5000000000000002e-08}, {'value': 2051965.4053483258, 'duration': 1.5000000000000002e-08}, {'value': 1731696.312027053, 'duration': 1.5000000000000002e-08}, {'value': 1387077.6590048037, 'duration': 1.5000000000000002e-08}, {'value': 1021611.5124646389, 'duration': 1.5000000000000002e-08}, {'value': 639016.5079051923, 'duration': 1.5000000000000002e-08}, {'value': 243166.4139305987, 'duration': 1.5000000000000002e-08}, {'value': -161973.22352457047, 'duration': 1.5000000000000002e-08}, {'value': -572409.175689447, 'duration': 1.5000000000000002e-08}, {'value': -984184.1743051592, 'duration': 1.5000000000000002e-08}, {'value': -1393438.9280234072, 'duration': 1.5000000000000002e-08}, {'value': -1796471.3729119394, 'duration': 1.5000000000000002e-08}, {'value': -2189792.0770495054, 'duration': 1.5000000000000002e-08}, {'value': -2570174.7990140906, 'duration': 1.5000000000000002e-08}, {'value': -2934701.299198668, 'duration': 1.5000000000000002e-08}, {'value': -3280799.619359773, 'duration': 1.5000000000000002e-08}, {'value': -3606275.1773012243, 'duration': 1.5000000000000002e-08}, {'value': -3909334.1675069025, 'duration': 1.5000000000000002e-08}, {'value': -4188598.912001926, 'duration': 1.5000000000000002e-08}, {'value': -4443114.965692974, 'duration': 1.5000000000000002e-08}, {'value': -4672349.943736764, 'duration': 1.5000000000000002e-08}, {'value': -4876184.201867592, 'duration': 1.5000000000000002e-08}, {'value': -5054893.660836093, 'duration': 1.5000000000000002e-08}, {'value': -5209125.21999147, 'duration': 1.5000000000000002e-08}, {'value': -5339865.349527013, 'duration': 1.5000000000000002e-08}, {'value': -5448402.583139833, 'duration': 1.5000000000000002e-08}, {'value': -5536284.750214446, 'duration': 1.5000000000000002e-08}, {'value': -5605271.886808028, 'duration': 1.5000000000000002e-08}, {'value': -5657285.845720633, 'duration': 1.5000000000000002e-08}, {'value': -5694357.686188513, 'duration': 1.5000000000000002e-08}, {'value': -5718573.962072424, 'duration': 1.5000000000000002e-08}, {'value': -5732023.043094092, 'duration': 1.5000000000000002e-08}, {'value': -5736742.596427042, 'duration': 1.5000000000000002e-08}, {'value': -5734669.325955986, 'duration': 1.5000000000000002e-08}, {'value': -5727592.014422407, 'duration': 1.5000000000000002e-08}, {'value': -5717108.840555484, 'duration': 1.5000000000000002e-08}, {'value': -5704589.850651711, 'duration': 1.5000000000000002e-08}, {'value': -5691145.353808166, 'duration': 1.5000000000000002e-08}, {'value': -5677600.884381358, 'duration': 1.5000000000000002e-08}, {'value': -5664479.23678999, 'duration': 1.5000000000000002e-08}, {'value': -5651989.929316582, 'duration': 1.5000000000000002e-08}, {'value': -5640026.298098119, 'duration': 1.5000000000000002e-08}, {'value': -5628170.2631776575, 'duration': 1.5000000000000002e-08}, {'value': -5615704.64853832, 'duration': 1.5000000000000002e-08}, {'value': -5601632.780691299, 'duration': 1.5000000000000002e-08}, {'value': -5584704.938816055, 'duration': 1.5000000000000002e-08}, {'value': -5563451.086712649, 'duration': 1.5000000000000002e-08}, {'value': -5536219.185799624, 'duration': 1.5000000000000002e-08}, {'value': -5501218.271715469, 'duration': 1.5000000000000002e-08}, {'value': -5456565.377105332, 'duration': 1.5000000000000002e-08}, {'value': -5400335.301906817, 'duration': 1.5000000000000002e-08}, {'value': -5330612.171521359, 'duration': 1.5000000000000002e-08}, {'value': -5245541.683890665, 'duration': 1.5000000000000002e-08}, {'value': -5143382.929477884, 'duration': 1.5000000000000002e-08}, {'value': -5022558.6738148155, 'duration': 1.5000000000000002e-08}, {'value': -4881703.020499453, 'duration': 1.5000000000000002e-08}, {'value': -4719705.422736943, 'duration': 1.5000000000000002e-08}, {'value': -4535750.082695693, 'duration': 1.5000000000000002e-08}, {'value': -4329349.868661695, 'duration': 1.5000000000000002e-08}, {'value': -4100373.9883898655, 'duration': 1.5000000000000002e-08}, {'value': -3849068.7809893214, 'duration': 1.5000000000000002e-08}, {'value': -3576071.1266478887, 'duration': 1.5000000000000002e-08}, {'value': -3282414.1207487653, 'duration': 1.5000000000000002e-08}, {'value': -2969524.8135047583, 'duration': 1.5000000000000002e-08}, {'value': -2639213.975034069, 'duration': 1.5000000000000002e-08}, {'value': -2293658.0056462274, 'duration': 1.5000000000000002e-08}, {'value': -1935373.2688006214, 'duration': 1.5000000000000002e-08}, {'value': -1567183.276591535, 'duration': 1.5000000000000002e-08}, {'value': -1192179.301662163, 'duration': 1.5000000000000002e-08}, {'value': -813675.1222862594, 'duration': 1.5000000000000002e-08}, {'value': -435156.7263359622, 'duration': 1.5000000000000002e-08}, {'value': -60227.90261764839, 'duration': 1.5000000000000002e-08}, {'value': 307447.2674306692, 'duration': 1.5000000000000002e-08}, {'value': 664203.9400948228, 'duration': 1.5000000000000002e-08}, {'value': 1006436.9408009892, 'duration': 1.5000000000000002e-08}, {'value': 1330660.9542239928, 'duration': 1.5000000000000002e-08}, {'value': 1633569.331772971, 'duration': 1.5000000000000002e-08}, {'value': 1912090.3985806804, 'duration': 1.5000000000000002e-08}, {'value': 2163440.187459999, 'duration': 1.5000000000000002e-08}, {'value': 2385170.5935999313, 'duration': 1.5000000000000002e-08}, {'value': 2575212.029714632, 'duration': 1.5000000000000002e-08}, {'value': 2731909.7652051947, 'duration': 1.5000000000000002e-08}, {'value': 2854053.2525694007, 'duration': 1.5000000000000002e-08}, {'value': 2940897.877411453, 'duration': 1.5000000000000002e-08}, {'value': 2992178.7123165443, 'duration': 1.5000000000000002e-08}, {'value': 3008116.006711364, 'duration': 1.5000000000000002e-08}, {'value': 2989412.3016292704, 'duration': 1.5000000000000002e-08}, {'value': 2937241.2169490596, 'duration': 1.5000000000000002e-08}, {'value': 2853228.1160624297, 'duration': 1.5000000000000002e-08}], 'infidelity': {'value': 1.4300662564383862e-09}}, errors=None, action=CoreAction(created_at=None, definition=None, errors=None, job_data=None, job_id=None, model_id='385359', model_type=None, mutation_name=None, name='core__calculateOptimization', progress=1.0, result=None, runtime=None, started_at=None, status='SUCCESS', terminated_at=None, updated_at=None, user=None))"
            ]
          },
          "metadata": {
            "tags": []
          },
          "execution_count": 40
        }
      ]
    },
    {
      "cell_type": "code",
      "metadata": {
        "id": "dmotjfnmly5v",
        "colab": {
          "base_uri": "https://localhost:8080/"
        },
        "outputId": "94052e94-c467-4ba1-995c-1a384819b5d6"
      },
      "source": [
        "print(\"Best cost:\")\n",
        "print(optimization_result.cost)"
      ],
      "execution_count": null,
      "outputs": [
        {
          "output_type": "stream",
          "text": [
            "Best cost:\n",
            "1.4300662564383862e-09\n"
          ],
          "name": "stdout"
        }
      ]
    },
    {
      "cell_type": "markdown",
      "metadata": {
        "id": "onGY6sbJly5v"
      },
      "source": [
        "Once you have completed an optimization with a good cost you can export the segments of the pulse to your device.\n"
      ]
    },
    {
      "cell_type": "code",
      "metadata": {
        "id": "S2ZUU101ly5v",
        "colab": {
          "base_uri": "https://localhost:8080/",
          "height": 279
        },
        "outputId": "d53b195e-176c-4bdb-e36f-75bbc82be7af"
      },
      "source": [
        "qv.plot_controls(\n",
        "    plt.figure(),\n",
        "    {\n",
        "        \"$\\Omega_I$\": optimization_result.output[\"I\"],\n",
        "        \"$\\Omega_Q$\": optimization_result.output[\"Q\"],\n",
        "    },\n",
        ")\n",
        "plt.show()"
      ],
      "execution_count": null,
      "outputs": [
        {
          "output_type": "display_data",
          "data": {
            "image/png": "[encoded data removed]",
            "text/plain": [
              "<Figure size 504x288 with 2 Axes>"
            ]
          },
          "metadata": {
            "tags": [],
            "needs_background": "light"
          }
        }
      ]
    },
    {
      "cell_type": "markdown",
      "metadata": {
        "id": "7xFOmFRMDAmi"
      },
      "source": [
        "## Sending the pulse to the cloud to realize the NOT gate"
      ]
    },
    {
      "cell_type": "code",
      "metadata": {
        "id": "DDVfQ-TG-63c"
      },
      "source": [
        "Ivals, Qvals = optimization_result.output[\"I\"], optimization_result.output[\"Q\"]"
      ],
      "execution_count": null,
      "outputs": []
    },
    {
      "cell_type": "code",
      "metadata": {
        "colab": {
          "base_uri": "https://localhost:8080/"
        },
        "id": "jrAKTUCxFPfI",
        "outputId": "32aee011-c96f-46dc-95c5-14909a67387e"
      },
      "source": [
        "Qvals"
      ],
      "execution_count": null,
      "outputs": [
        {
          "output_type": "execute_result",
          "data": {
            "text/plain": [
              "[{'duration': 1.5000000000000002e-08, 'value': 3228153.996921337},\n",
              " {'duration': 1.5000000000000002e-08, 'value': 3331626.1738166204},\n",
              " {'duration': 1.5000000000000002e-08, 'value': 3400993.995268936},\n",
              " {'duration': 1.5000000000000002e-08, 'value': 3434378.57314747},\n",
              " {'duration': 1.5000000000000002e-08, 'value': 3430377.9517383296},\n",
              " {'duration': 1.5000000000000002e-08, 'value': 3388090.1555592334},\n",
              " {'duration': 1.5000000000000002e-08, 'value': 3307127.77314859},\n",
              " {'duration': 1.5000000000000002e-08, 'value': 3187623.8151343106},\n",
              " {'duration': 1.5000000000000002e-08, 'value': 3030228.7474707053},\n",
              " {'duration': 1.5000000000000002e-08, 'value': 2836098.7654624777},\n",
              " {'duration': 1.5000000000000002e-08, 'value': 2606875.537870365},\n",
              " {'duration': 1.5000000000000002e-08, 'value': 2344657.809824857},\n",
              " {'duration': 1.5000000000000002e-08, 'value': 2051965.4053483258},\n",
              " {'duration': 1.5000000000000002e-08, 'value': 1731696.312027053},\n",
              " {'duration': 1.5000000000000002e-08, 'value': 1387077.6590048037},\n",
              " {'duration': 1.5000000000000002e-08, 'value': 1021611.5124646389},\n",
              " {'duration': 1.5000000000000002e-08, 'value': 639016.5079051923},\n",
              " {'duration': 1.5000000000000002e-08, 'value': 243166.4139305987},\n",
              " {'duration': 1.5000000000000002e-08, 'value': -161973.22352457047},\n",
              " {'duration': 1.5000000000000002e-08, 'value': -572409.175689447},\n",
              " {'duration': 1.5000000000000002e-08, 'value': -984184.1743051592},\n",
              " {'duration': 1.5000000000000002e-08, 'value': -1393438.9280234072},\n",
              " {'duration': 1.5000000000000002e-08, 'value': -1796471.3729119394},\n",
              " {'duration': 1.5000000000000002e-08, 'value': -2189792.0770495054},\n",
              " {'duration': 1.5000000000000002e-08, 'value': -2570174.7990140906},\n",
              " {'duration': 1.5000000000000002e-08, 'value': -2934701.299198668},\n",
              " {'duration': 1.5000000000000002e-08, 'value': -3280799.619359773},\n",
              " {'duration': 1.5000000000000002e-08, 'value': -3606275.1773012243},\n",
              " {'duration': 1.5000000000000002e-08, 'value': -3909334.1675069025},\n",
              " {'duration': 1.5000000000000002e-08, 'value': -4188598.912001926},\n",
              " {'duration': 1.5000000000000002e-08, 'value': -4443114.965692974},\n",
              " {'duration': 1.5000000000000002e-08, 'value': -4672349.943736764},\n",
              " {'duration': 1.5000000000000002e-08, 'value': -4876184.201867592},\n",
              " {'duration': 1.5000000000000002e-08, 'value': -5054893.660836093},\n",
              " {'duration': 1.5000000000000002e-08, 'value': -5209125.21999147},\n",
              " {'duration': 1.5000000000000002e-08, 'value': -5339865.349527013},\n",
              " {'duration': 1.5000000000000002e-08, 'value': -5448402.583139833},\n",
              " {'duration': 1.5000000000000002e-08, 'value': -5536284.750214446},\n",
              " {'duration': 1.5000000000000002e-08, 'value': -5605271.886808028},\n",
              " {'duration': 1.5000000000000002e-08, 'value': -5657285.845720633},\n",
              " {'duration': 1.5000000000000002e-08, 'value': -5694357.686188513},\n",
              " {'duration': 1.5000000000000002e-08, 'value': -5718573.962072424},\n",
              " {'duration': 1.5000000000000002e-08, 'value': -5732023.043094092},\n",
              " {'duration': 1.5000000000000002e-08, 'value': -5736742.596427042},\n",
              " {'duration': 1.5000000000000002e-08, 'value': -5734669.325955986},\n",
              " {'duration': 1.5000000000000002e-08, 'value': -5727592.014422407},\n",
              " {'duration': 1.5000000000000002e-08, 'value': -5717108.840555484},\n",
              " {'duration': 1.5000000000000002e-08, 'value': -5704589.850651711},\n",
              " {'duration': 1.5000000000000002e-08, 'value': -5691145.353808166},\n",
              " {'duration': 1.5000000000000002e-08, 'value': -5677600.884381358},\n",
              " {'duration': 1.5000000000000002e-08, 'value': -5664479.23678999},\n",
              " {'duration': 1.5000000000000002e-08, 'value': -5651989.929316582},\n",
              " {'duration': 1.5000000000000002e-08, 'value': -5640026.298098119},\n",
              " {'duration': 1.5000000000000002e-08, 'value': -5628170.2631776575},\n",
              " {'duration': 1.5000000000000002e-08, 'value': -5615704.64853832},\n",
              " {'duration': 1.5000000000000002e-08, 'value': -5601632.780691299},\n",
              " {'duration': 1.5000000000000002e-08, 'value': -5584704.938816055},\n",
              " {'duration': 1.5000000000000002e-08, 'value': -5563451.086712649},\n",
              " {'duration': 1.5000000000000002e-08, 'value': -5536219.185799624},\n",
              " {'duration': 1.5000000000000002e-08, 'value': -5501218.271715469},\n",
              " {'duration': 1.5000000000000002e-08, 'value': -5456565.377105332},\n",
              " {'duration': 1.5000000000000002e-08, 'value': -5400335.301906817},\n",
              " {'duration': 1.5000000000000002e-08, 'value': -5330612.171521359},\n",
              " {'duration': 1.5000000000000002e-08, 'value': -5245541.683890665},\n",
              " {'duration': 1.5000000000000002e-08, 'value': -5143382.929477884},\n",
              " {'duration': 1.5000000000000002e-08, 'value': -5022558.6738148155},\n",
              " {'duration': 1.5000000000000002e-08, 'value': -4881703.020499453},\n",
              " {'duration': 1.5000000000000002e-08, 'value': -4719705.422736943},\n",
              " {'duration': 1.5000000000000002e-08, 'value': -4535750.082695693},\n",
              " {'duration': 1.5000000000000002e-08, 'value': -4329349.868661695},\n",
              " {'duration': 1.5000000000000002e-08, 'value': -4100373.9883898655},\n",
              " {'duration': 1.5000000000000002e-08, 'value': -3849068.7809893214},\n",
              " {'duration': 1.5000000000000002e-08, 'value': -3576071.1266478887},\n",
              " {'duration': 1.5000000000000002e-08, 'value': -3282414.1207487653},\n",
              " {'duration': 1.5000000000000002e-08, 'value': -2969524.8135047583},\n",
              " {'duration': 1.5000000000000002e-08, 'value': -2639213.975034069},\n",
              " {'duration': 1.5000000000000002e-08, 'value': -2293658.0056462274},\n",
              " {'duration': 1.5000000000000002e-08, 'value': -1935373.2688006214},\n",
              " {'duration': 1.5000000000000002e-08, 'value': -1567183.276591535},\n",
              " {'duration': 1.5000000000000002e-08, 'value': -1192179.301662163},\n",
              " {'duration': 1.5000000000000002e-08, 'value': -813675.1222862594},\n",
              " {'duration': 1.5000000000000002e-08, 'value': -435156.7263359622},\n",
              " {'duration': 1.5000000000000002e-08, 'value': -60227.90261764839},\n",
              " {'duration': 1.5000000000000002e-08, 'value': 307447.2674306692},\n",
              " {'duration': 1.5000000000000002e-08, 'value': 664203.9400948228},\n",
              " {'duration': 1.5000000000000002e-08, 'value': 1006436.9408009892},\n",
              " {'duration': 1.5000000000000002e-08, 'value': 1330660.9542239928},\n",
              " {'duration': 1.5000000000000002e-08, 'value': 1633569.331772971},\n",
              " {'duration': 1.5000000000000002e-08, 'value': 1912090.3985806804},\n",
              " {'duration': 1.5000000000000002e-08, 'value': 2163440.187459999},\n",
              " {'duration': 1.5000000000000002e-08, 'value': 2385170.5935999313},\n",
              " {'duration': 1.5000000000000002e-08, 'value': 2575212.029714632},\n",
              " {'duration': 1.5000000000000002e-08, 'value': 2731909.7652051947},\n",
              " {'duration': 1.5000000000000002e-08, 'value': 2854053.2525694007},\n",
              " {'duration': 1.5000000000000002e-08, 'value': 2940897.877411453},\n",
              " {'duration': 1.5000000000000002e-08, 'value': 2992178.7123165443},\n",
              " {'duration': 1.5000000000000002e-08, 'value': 3008116.006711364},\n",
              " {'duration': 1.5000000000000002e-08, 'value': 2989412.3016292704},\n",
              " {'duration': 1.5000000000000002e-08, 'value': 2937241.2169490596},\n",
              " {'duration': 1.5000000000000002e-08, 'value': 2853228.1160624297}]"
            ]
          },
          "metadata": {
            "tags": []
          },
          "execution_count": 47
        }
      ]
    },
    {
      "cell_type": "code",
      "metadata": {
        "id": "XnaTs45U0cfp"
      },
      "source": [
        "control_count = 1\n",
        "segment_count = len(Ivals)\n",
        "duration = Ivals[0]['duration']*1e9\n",
        "shot_count = 512"
      ],
      "execution_count": null,
      "outputs": []
    },
    {
      "cell_type": "code",
      "metadata": {
        "id": "fsAlFnbf0cOv"
      },
      "source": [
        "values = []\n",
        "R, C = [], []\n",
        "for RE, COM in zip(Ivals, Qvals):\n",
        "  r = RE['value']\n",
        "  c = COM['value']\n",
        "  R.append(r)\n",
        "  C.append(c)\n",
        "\n",
        "# R = (np.array(R) - np.mean(R))/ np.std(R)\n",
        "# C = (np.array(C) - np.mean(C))/ np.std(C)\n",
        "\n",
        "for r, c in zip(R, C):\n",
        "  values.append(r + 1j * c)\n",
        "# values = np.array(values)\n",
        "# values = (values - np.mean(values)) / np.std(values)"
      ],
      "execution_count": null,
      "outputs": []
    },
    {
      "cell_type": "code",
      "metadata": {
        "id": "jtV-KpMUGK8g"
      },
      "source": [
        "norm = np.linalg.norm(values)\n",
        "values = values/norm"
      ],
      "execution_count": null,
      "outputs": []
    },
    {
      "cell_type": "code",
      "metadata": {
        "id": "nLbNb2SJ0cED"
      },
      "source": [
        "controls = []\n",
        "controls.append({\"duration\":duration, \"values\": np.array(values)})"
      ],
      "execution_count": null,
      "outputs": []
    },
    {
      "cell_type": "code",
      "metadata": {
        "colab": {
          "base_uri": "https://localhost:8080/"
        },
        "id": "62k0u_m7BYUx",
        "outputId": "dba19c27-8be3-4cc1-d928-622a6271e664"
      },
      "source": [
        "controls"
      ],
      "execution_count": null,
      "outputs": [
        {
          "output_type": "execute_result",
          "data": {
            "text/plain": [
              "[{'duration': 15.000000000000002,\n",
              "  'values': array([ 0.0056953 +0.07576767j,  0.00442086+0.07819626j,\n",
              "          0.00288427+0.07982438j,  0.0010902 +0.08060795j,\n",
              "         -0.00095251+0.08051405j, -0.00323087+0.07952152j,\n",
              "         -0.00572787+0.07762126j, -0.00842264+0.07481639j,\n",
              "         -0.01129074+0.07112219j, -0.0143045 +0.06656579j,\n",
              "         -0.01743333+0.06118571j, -0.02064428+0.05503122j,\n",
              "         -0.02390245+0.04816147j, -0.02717155+0.04064447j,\n",
              "         -0.03041452+0.03255596j, -0.03359406+0.02397814j,\n",
              "         -0.03667327+0.01499829j, -0.03961628+0.00570733j,\n",
              "         -0.0423888 -0.00380166j, -0.04495874-0.01343496j,\n",
              "         -0.04729678-0.02309969j, -0.04937682-0.03270526j,\n",
              "         -0.05117649-0.0421648j , -0.05267753-0.05139639j,\n",
              "         -0.05386614-0.06032431j, -0.05473323-0.06888008j,\n",
              "         -0.05527461-0.07700331j, -0.05549107-0.08464252j,\n",
              "         -0.05538844-0.09175558j, -0.05497746-0.09831018j,\n",
              "         -0.05427367-0.1042839j , -0.05329716-0.10966425j,\n",
              "         -0.05207222-0.11444842j, -0.05062699-0.11864289j,\n",
              "         -0.04899296-0.12226285j, -0.04720447-0.12533144j,\n",
              "         -0.0452981 -0.1278789j , -0.04331209-0.12994158j,\n",
              "         -0.04128568-0.13156077j, -0.03925843-0.13278158j,\n",
              "         -0.03726954-0.13365169j, -0.03535719-0.13422007j,\n",
              "         -0.03355789-0.13453573j, -0.03190581-0.1346465j ,\n",
              "         -0.03043223-0.13459784j, -0.02916498-0.13443173j,\n",
              "         -0.02812795-0.13418568j, -0.02734069-0.13389185j,\n",
              "         -0.02681804-0.13357629j, -0.02656991-0.13325839j,\n",
              "         -0.02660105-0.13295042j, -0.02691103-0.13265728j,\n",
              "         -0.02749419-0.13237648j, -0.02833976-0.13209821j,\n",
              "         -0.02943205-0.13180563j, -0.0307507 -0.13147535j,\n",
              "         -0.03227106-0.13107804j, -0.03396457-0.13057919j,\n",
              "         -0.0357993 -0.12994004j, -0.0377405 -0.12911853j,\n",
              "         -0.03975114-0.12807049j, -0.04179262-0.12675072j,\n",
              "         -0.04382541-0.12511426j, -0.0458097 -0.12311757j,\n",
              "         -0.04770613-0.12071982j, -0.04947643-0.11788396j,\n",
              "         -0.05108409-0.11457795j, -0.05249496-0.11077573j,\n",
              "         -0.05367785-0.10645813j, -0.05460504-0.10161373j,\n",
              "         -0.05525274-0.09623946j, -0.0556015 -0.0903411j ,\n",
              "         -0.05563651-0.0839336j , -0.05534783-0.07704121j,\n",
              "         -0.05473054-0.06969741j, -0.05378484-0.06194472j,\n",
              "         -0.05251595-0.05383421j, -0.05093407-0.04542495j,\n",
              "         -0.04905415-0.0367832j , -0.04689561-0.02798152j,\n",
              "         -0.04448201-0.01909769j, -0.04184062-0.01021352j,\n",
              "         -0.03900192-0.0014136j , -0.03599914+0.00721606j,\n",
              "         -0.0328676 +0.01558946j, -0.02964421+0.02362198j,\n",
              "         -0.02636675+0.03123181j, -0.02307334+0.03834134j,\n",
              "         -0.01980174+0.04487848j, -0.01658879+0.05077788j,\n",
              "         -0.0134698 +0.0559821j , -0.01047802+0.06044254j,\n",
              "         -0.00764411+0.06412038j, -0.00499571+0.06698719j,\n",
              "         -0.00255701+0.06902551j, -0.00034847+0.07022912j,\n",
              "          0.00161347+0.07060318j,  0.00331656+0.07016419j,\n",
              "          0.00475287+0.06893969j,  0.00591878+0.06696783j])}]"
            ]
          },
          "metadata": {
            "tags": []
          },
          "execution_count": 72
        }
      ]
    },
    {
      "cell_type": "code",
      "metadata": {
        "colab": {
          "base_uri": "https://localhost:8080/",
          "height": 34,
          "referenced_widgets": [
            "fd97ef4c823548a9b008d6cec149e2c8",
            "8180ae8a5a2947a09c7c798f8c3e477e",
            "ebaed8aa9a7d45bcbc36afbec3a9b0fb",
            "92d60a5ba8b84f879db73ef098b07ffc",
            "13498cdc69704137ae9bd1eba63517f1",
            "f526040eacb747218a08a1d70edb225b",
            "ebcb31cba6534799b40ef51d672e3b3d",
            "563d52fe490a40ea8a17ce2edcbb7a7f"
          ]
        },
        "id": "Xhu7ag-W_8u5",
        "outputId": "14f3ead5-6278-431f-c44b-e21883634abe"
      },
      "source": [
        "experiment_results = qctrl.functions.calculate_qchack_measurements(\n",
        "    controls=controls,\n",
        "    shot_count=shot_count,\n",
        ")"
      ],
      "execution_count": null,
      "outputs": [
        {
          "output_type": "display_data",
          "data": {
            "application/vnd.jupyter.widget-view+json": {
              "model_id": "fd97ef4c823548a9b008d6cec149e2c8",
              "version_minor": 0,
              "version_major": 2
            },
            "text/plain": [
              "HBox(children=(FloatProgress(value=0.0), HTML(value='')))"
            ]
          },
          "metadata": {
            "tags": []
          }
        },
        {
          "output_type": "stream",
          "text": [
            "\rYour task calculate_qchack_measurements has completed in 3s.\n",
            "\r"
          ],
          "name": "stdout"
        }
      ]
    },
    {
      "cell_type": "code",
      "metadata": {
        "colab": {
          "base_uri": "https://localhost:8080/"
        },
        "id": "xkweKW1pGjXX",
        "outputId": "b735820a-77c9-4b2d-fc2b-ce2560b43ad0"
      },
      "source": [
        "measurements = experiment_results.measurements\n",
        "for measurement_counts in enumerate(measurements):\n",
        "    print(\"control: {measurement_counts}\")"
      ],
      "execution_count": null,
      "outputs": [
        {
          "output_type": "stream",
          "text": [
            "control 1: (0, [0, 0, 0, 0, 0, 0, 0, 0, 0, 0, 0, 0, 0, 0, 0, 0, 0, 0, 0, 0, 0, 0, 0, 0, 0, 0, 0, 0, 0, 0, 0, 0, 0, 0, 0, 0, 0, 0, 0, 0, 0, 0, 0, 0, 0, 0, 0, 0, 0, 0, 0, 1, 0, 0, 0, 0, 0, 0, 0, 0, 0, 0, 0, 0, 0, 0, 0, 0, 0, 0, 0, 1, 0, 0, 0, 0, 0, 0, 0, 0, 0, 0, 0, 0, 0, 0, 0, 0, 0, 0, 0, 0, 1, 0, 0, 0, 0, 0, 0, 0, 0, 0, 0, 0, 0, 0, 0, 0, 0, 0, 0, 0, 0, 0, 0, 1, 0, 0, 0, 0, 0, 1, 0, 0, 0, 1, 0, 1])\n"
          ],
          "name": "stdout"
        }
      ]
    },
    {
      "cell_type": "code",
      "metadata": {
        "colab": {
          "base_uri": "https://localhost:8080/"
        },
        "id": "NVRTjej4LJ79",
        "outputId": "003508b3-3960-4955-a329-3dc92fc4c9f3"
      },
      "source": [
        "for measurement_counts in enumerate(measurements):\n",
        "    p0 = measurement_counts.count(0) / shot_count\n",
        "    p1 = measurement_counts.count(1) / shot_count\n",
        "    p2 = measurement_counts.count(2) / shot_count\n",
        "    print(f\"control 1: P(|0>) = {p0:.2f}, P(|1>) = {p1:.2f}, P(|2>) = {p2:.2f}\")"
      ],
      "execution_count": null,
      "outputs": [
        {
          "output_type": "stream",
          "text": [
            "control 1: P(|0>) = 0.00, P(|1>) = 0.00, P(|2>) = 0.00\n"
          ],
          "name": "stdout"
        }
      ]
    },
    {
      "cell_type": "code",
      "metadata": {
        "id": "UfsRpDXkLdXs"
      },
      "source": [
        ""
      ],
      "execution_count": null,
      "outputs": []
    }
  ]
}